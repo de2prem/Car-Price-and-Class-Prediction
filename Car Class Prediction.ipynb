{
 "cells": [
  {
   "cell_type": "markdown",
   "id": "b62448c5",
   "metadata": {},
   "source": [
    "## Importing necesary modules"
   ]
  },
  {
   "cell_type": "code",
   "execution_count": 85,
   "id": "558af28d",
   "metadata": {},
   "outputs": [],
   "source": [
    "import pandas as pd\n",
    "import math\n",
    "import numpy as np\n",
    "import seaborn as sns\n",
    "import matplotlib.pyplot as plt\n",
    "from scipy.stats import pointbiserialr\n",
    "from sklearn.model_selection import GridSearchCV\n",
    "from sklearn.model_selection import train_test_split\n",
    "from sklearn.linear_model import LogisticRegression\n",
    "from sklearn.svm import SVC\n",
    "from sklearn.ensemble import RandomForestClassifier\n",
    "from sklearn.metrics import accuracy_score, confusion_matrix, f1_score"
   ]
  },
  {
   "cell_type": "code",
   "execution_count": 27,
   "id": "b46163d4",
   "metadata": {},
   "outputs": [],
   "source": [
    "df=pd.read_csv(r\"D:\\Data science\\Final Guvi Project\\cars_class.csv\")"
   ]
  },
  {
   "cell_type": "code",
   "execution_count": 28,
   "id": "7a2660a2",
   "metadata": {},
   "outputs": [
    {
     "data": {
      "text/html": [
       "<div>\n",
       "<style scoped>\n",
       "    .dataframe tbody tr th:only-of-type {\n",
       "        vertical-align: middle;\n",
       "    }\n",
       "\n",
       "    .dataframe tbody tr th {\n",
       "        vertical-align: top;\n",
       "    }\n",
       "\n",
       "    .dataframe thead th {\n",
       "        text-align: right;\n",
       "    }\n",
       "</style>\n",
       "<table border=\"1\" class=\"dataframe\">\n",
       "  <thead>\n",
       "    <tr style=\"text-align: right;\">\n",
       "      <th></th>\n",
       "      <th>ID</th>\n",
       "      <th>Comp</th>\n",
       "      <th>Circ</th>\n",
       "      <th>D.Circ</th>\n",
       "      <th>Rad.Ra</th>\n",
       "      <th>Pr.Axis.Ra</th>\n",
       "      <th>Max.L.Ra</th>\n",
       "      <th>Scat.Ra</th>\n",
       "      <th>Elong</th>\n",
       "      <th>Pr.Axis.Rect</th>\n",
       "      <th>Max.L.Rect</th>\n",
       "      <th>Sc.Var.Maxis</th>\n",
       "      <th>Sc.Var.maxis</th>\n",
       "      <th>Ra.Gyr</th>\n",
       "      <th>Skew.Maxis</th>\n",
       "      <th>Skew.maxis</th>\n",
       "      <th>Kurt.maxis</th>\n",
       "      <th>Kurt.Maxis</th>\n",
       "      <th>Holl.Ra</th>\n",
       "      <th>Class</th>\n",
       "    </tr>\n",
       "  </thead>\n",
       "  <tbody>\n",
       "    <tr>\n",
       "      <th>0</th>\n",
       "      <td>1</td>\n",
       "      <td>88</td>\n",
       "      <td>39</td>\n",
       "      <td>70</td>\n",
       "      <td>166</td>\n",
       "      <td>66</td>\n",
       "      <td>7</td>\n",
       "      <td>148</td>\n",
       "      <td>44</td>\n",
       "      <td>19</td>\n",
       "      <td>134</td>\n",
       "      <td>167</td>\n",
       "      <td>332</td>\n",
       "      <td>143</td>\n",
       "      <td>69</td>\n",
       "      <td>5</td>\n",
       "      <td>13</td>\n",
       "      <td>193</td>\n",
       "      <td>201</td>\n",
       "      <td>0</td>\n",
       "    </tr>\n",
       "    <tr>\n",
       "      <th>1</th>\n",
       "      <td>2</td>\n",
       "      <td>85</td>\n",
       "      <td>35</td>\n",
       "      <td>64</td>\n",
       "      <td>129</td>\n",
       "      <td>57</td>\n",
       "      <td>6</td>\n",
       "      <td>116</td>\n",
       "      <td>57</td>\n",
       "      <td>17</td>\n",
       "      <td>125</td>\n",
       "      <td>138</td>\n",
       "      <td>200</td>\n",
       "      <td>123</td>\n",
       "      <td>65</td>\n",
       "      <td>1</td>\n",
       "      <td>23</td>\n",
       "      <td>196</td>\n",
       "      <td>203</td>\n",
       "      <td>3</td>\n",
       "    </tr>\n",
       "    <tr>\n",
       "      <th>2</th>\n",
       "      <td>3</td>\n",
       "      <td>91</td>\n",
       "      <td>41</td>\n",
       "      <td>84</td>\n",
       "      <td>141</td>\n",
       "      <td>57</td>\n",
       "      <td>9</td>\n",
       "      <td>149</td>\n",
       "      <td>45</td>\n",
       "      <td>19</td>\n",
       "      <td>143</td>\n",
       "      <td>170</td>\n",
       "      <td>330</td>\n",
       "      <td>158</td>\n",
       "      <td>72</td>\n",
       "      <td>9</td>\n",
       "      <td>14</td>\n",
       "      <td>189</td>\n",
       "      <td>199</td>\n",
       "      <td>3</td>\n",
       "    </tr>\n",
       "    <tr>\n",
       "      <th>3</th>\n",
       "      <td>4</td>\n",
       "      <td>102</td>\n",
       "      <td>54</td>\n",
       "      <td>98</td>\n",
       "      <td>177</td>\n",
       "      <td>56</td>\n",
       "      <td>10</td>\n",
       "      <td>219</td>\n",
       "      <td>31</td>\n",
       "      <td>25</td>\n",
       "      <td>171</td>\n",
       "      <td>219</td>\n",
       "      <td>706</td>\n",
       "      <td>223</td>\n",
       "      <td>72</td>\n",
       "      <td>5</td>\n",
       "      <td>17</td>\n",
       "      <td>186</td>\n",
       "      <td>196</td>\n",
       "      <td>1</td>\n",
       "    </tr>\n",
       "    <tr>\n",
       "      <th>4</th>\n",
       "      <td>5</td>\n",
       "      <td>87</td>\n",
       "      <td>39</td>\n",
       "      <td>74</td>\n",
       "      <td>152</td>\n",
       "      <td>58</td>\n",
       "      <td>6</td>\n",
       "      <td>151</td>\n",
       "      <td>44</td>\n",
       "      <td>19</td>\n",
       "      <td>136</td>\n",
       "      <td>174</td>\n",
       "      <td>337</td>\n",
       "      <td>140</td>\n",
       "      <td>70</td>\n",
       "      <td>1</td>\n",
       "      <td>33</td>\n",
       "      <td>187</td>\n",
       "      <td>196</td>\n",
       "      <td>2</td>\n",
       "    </tr>\n",
       "  </tbody>\n",
       "</table>\n",
       "</div>"
      ],
      "text/plain": [
       "   ID  Comp  Circ  D.Circ  Rad.Ra  Pr.Axis.Ra  Max.L.Ra  Scat.Ra  Elong  \\\n",
       "0   1    88    39      70     166          66         7      148     44   \n",
       "1   2    85    35      64     129          57         6      116     57   \n",
       "2   3    91    41      84     141          57         9      149     45   \n",
       "3   4   102    54      98     177          56        10      219     31   \n",
       "4   5    87    39      74     152          58         6      151     44   \n",
       "\n",
       "   Pr.Axis.Rect  Max.L.Rect  Sc.Var.Maxis  Sc.Var.maxis  Ra.Gyr  Skew.Maxis  \\\n",
       "0            19         134           167           332     143          69   \n",
       "1            17         125           138           200     123          65   \n",
       "2            19         143           170           330     158          72   \n",
       "3            25         171           219           706     223          72   \n",
       "4            19         136           174           337     140          70   \n",
       "\n",
       "   Skew.maxis  Kurt.maxis  Kurt.Maxis  Holl.Ra  Class  \n",
       "0           5          13         193      201      0  \n",
       "1           1          23         196      203      3  \n",
       "2           9          14         189      199      3  \n",
       "3           5          17         186      196      1  \n",
       "4           1          33         187      196      2  "
      ]
     },
     "execution_count": 28,
     "metadata": {},
     "output_type": "execute_result"
    }
   ],
   "source": [
    "df.head()"
   ]
  },
  {
   "cell_type": "code",
   "execution_count": 29,
   "id": "7e21b667",
   "metadata": {},
   "outputs": [
    {
     "name": "stdout",
     "output_type": "stream",
     "text": [
      "<class 'pandas.core.frame.DataFrame'>\n",
      "RangeIndex: 719 entries, 0 to 718\n",
      "Data columns (total 20 columns):\n",
      " #   Column        Non-Null Count  Dtype\n",
      "---  ------        --------------  -----\n",
      " 0   ID            719 non-null    int64\n",
      " 1   Comp          719 non-null    int64\n",
      " 2   Circ          719 non-null    int64\n",
      " 3   D.Circ        719 non-null    int64\n",
      " 4   Rad.Ra        719 non-null    int64\n",
      " 5   Pr.Axis.Ra    719 non-null    int64\n",
      " 6   Max.L.Ra      719 non-null    int64\n",
      " 7   Scat.Ra       719 non-null    int64\n",
      " 8   Elong         719 non-null    int64\n",
      " 9   Pr.Axis.Rect  719 non-null    int64\n",
      " 10  Max.L.Rect    719 non-null    int64\n",
      " 11  Sc.Var.Maxis  719 non-null    int64\n",
      " 12  Sc.Var.maxis  719 non-null    int64\n",
      " 13  Ra.Gyr        719 non-null    int64\n",
      " 14  Skew.Maxis    719 non-null    int64\n",
      " 15  Skew.maxis    719 non-null    int64\n",
      " 16  Kurt.maxis    719 non-null    int64\n",
      " 17  Kurt.Maxis    719 non-null    int64\n",
      " 18  Holl.Ra       719 non-null    int64\n",
      " 19  Class         719 non-null    int64\n",
      "dtypes: int64(20)\n",
      "memory usage: 112.5 KB\n"
     ]
    }
   ],
   "source": [
    "df.info()"
   ]
  },
  {
   "cell_type": "code",
   "execution_count": 30,
   "id": "9c4fc925",
   "metadata": {},
   "outputs": [
    {
     "data": {
      "text/plain": [
       "ID              0\n",
       "Comp            0\n",
       "Circ            0\n",
       "D.Circ          0\n",
       "Rad.Ra          0\n",
       "Pr.Axis.Ra      0\n",
       "Max.L.Ra        0\n",
       "Scat.Ra         0\n",
       "Elong           0\n",
       "Pr.Axis.Rect    0\n",
       "Max.L.Rect      0\n",
       "Sc.Var.Maxis    0\n",
       "Sc.Var.maxis    0\n",
       "Ra.Gyr          0\n",
       "Skew.Maxis      0\n",
       "Skew.maxis      0\n",
       "Kurt.maxis      0\n",
       "Kurt.Maxis      0\n",
       "Holl.Ra         0\n",
       "Class           0\n",
       "dtype: int64"
      ]
     },
     "execution_count": 30,
     "metadata": {},
     "output_type": "execute_result"
    }
   ],
   "source": [
    "df.isnull().sum()"
   ]
  },
  {
   "cell_type": "code",
   "execution_count": 31,
   "id": "4642a01f",
   "metadata": {},
   "outputs": [
    {
     "data": {
      "text/plain": [
       "Index(['ID', 'Comp', 'Circ', 'D.Circ', 'Rad.Ra', 'Pr.Axis.Ra', 'Max.L.Ra',\n",
       "       'Scat.Ra', 'Elong', 'Pr.Axis.Rect', 'Max.L.Rect', 'Sc.Var.Maxis',\n",
       "       'Sc.Var.maxis', 'Ra.Gyr', 'Skew.Maxis', 'Skew.maxis', 'Kurt.maxis',\n",
       "       'Kurt.Maxis', 'Holl.Ra', 'Class'],\n",
       "      dtype='object')"
      ]
     },
     "execution_count": 31,
     "metadata": {},
     "output_type": "execute_result"
    }
   ],
   "source": [
    "df.columns"
   ]
  },
  {
   "cell_type": "code",
   "execution_count": 32,
   "id": "29ef7eaa",
   "metadata": {},
   "outputs": [],
   "source": [
    "cols=['ID', 'Comp', 'Circ', 'D.Circ', 'Rad.Ra', 'Pr.Axis.Ra', 'Max.L.Ra',\n",
    "       'Scat.Ra', 'Elong', 'Pr.Axis.Rect', 'Max.L.Rect', 'Sc.Var.Maxis',\n",
    "       'Sc.Var.maxis', 'Ra.Gyr', 'Skew.Maxis', 'Skew.maxis', 'Kurt.maxis',\n",
    "       'Kurt.Maxis', 'Holl.Ra', 'Class']"
   ]
  },
  {
   "cell_type": "markdown",
   "id": "74c9b451",
   "metadata": {},
   "source": [
    "### Balancing the Target Class"
   ]
  },
  {
   "cell_type": "code",
   "execution_count": 34,
   "id": "199caf48",
   "metadata": {},
   "outputs": [
    {
     "name": "stdout",
     "output_type": "stream",
     "text": [
      "Percentage of zero value in target variable:  0.26286509040333794\n",
      "Percentage of one value in target variable:  0.25034770514603616\n",
      "Percentage of two value in target variable:  0.24061196105702365\n",
      "Percentage of three value in target variable:  0.24617524339360222\n"
     ]
    },
    {
     "data": {
      "image/png": "[encoded data removed]",
      "text/plain": [
       "<Figure size 432x288 with 1 Axes>"
      ]
     },
     "metadata": {
      "needs_background": "light"
     },
     "output_type": "display_data"
    }
   ],
   "source": [
    "print(\"Percentage of zero value in target variable: \", ((df['Class'] == 0).sum() /df.shape[0]))\n",
    "print(\"Percentage of one value in target variable: \", ((df['Class'] == 1).sum() /df.shape[0]))\n",
    "print(\"Percentage of two value in target variable: \", ((df['Class'] == 2).sum() /df.shape[0]))\n",
    "print(\"Percentage of three value in target variable: \", ((df['Class'] == 3).sum() /df.shape[0]))\n",
    "df['Class'].plot(kind='hist', title='Distribution of target variable');"
   ]
  },
  {
   "cell_type": "markdown",
   "id": "b816d26b",
   "metadata": {},
   "source": [
    "From the above histogram we could see that the target class variables are almost balanced."
   ]
  },
  {
   "cell_type": "code",
   "execution_count": 35,
   "id": "222f32b2",
   "metadata": {},
   "outputs": [],
   "source": [
    "target = df['Class'].to_numpy()\n",
    "corr_dict = {}\n",
    "for column in df.iloc[:,2:-1]:\n",
    "    corr, p_val = pointbiserialr(target,df[column].to_numpy())\n",
    "    if not math.isnan(corr) and (corr) >0.1 and p_val<0.05:\n",
    "        corr_dict[column] = [corr]"
   ]
  },
  {
   "cell_type": "code",
   "execution_count": 36,
   "id": "351297d9",
   "metadata": {},
   "outputs": [
    {
     "data": {
      "text/html": [
       "<div>\n",
       "<style scoped>\n",
       "    .dataframe tbody tr th:only-of-type {\n",
       "        vertical-align: middle;\n",
       "    }\n",
       "\n",
       "    .dataframe tbody tr th {\n",
       "        vertical-align: top;\n",
       "    }\n",
       "\n",
       "    .dataframe thead th {\n",
       "        text-align: right;\n",
       "    }\n",
       "</style>\n",
       "<table border=\"1\" class=\"dataframe\">\n",
       "  <thead>\n",
       "    <tr style=\"text-align: right;\">\n",
       "      <th></th>\n",
       "      <th>Max.L.Ra</th>\n",
       "      <th>Elong</th>\n",
       "      <th>Skew.maxis</th>\n",
       "      <th>Holl.Ra</th>\n",
       "    </tr>\n",
       "  </thead>\n",
       "  <tbody>\n",
       "    <tr>\n",
       "      <th>0</th>\n",
       "      <td>0.190215</td>\n",
       "      <td>0.338634</td>\n",
       "      <td>0.142547</td>\n",
       "      <td>0.203227</td>\n",
       "    </tr>\n",
       "  </tbody>\n",
       "</table>\n",
       "</div>"
      ],
      "text/plain": [
       "   Max.L.Ra     Elong  Skew.maxis   Holl.Ra\n",
       "0  0.190215  0.338634    0.142547  0.203227"
      ]
     },
     "execution_count": 36,
     "metadata": {},
     "output_type": "execute_result"
    }
   ],
   "source": [
    "corr_df = pd.DataFrame(corr_dict)\n",
    "corr_df.head()"
   ]
  },
  {
   "cell_type": "code",
   "execution_count": 37,
   "id": "6b7971cf",
   "metadata": {},
   "outputs": [
    {
     "name": "stdout",
     "output_type": "stream",
     "text": [
      "Index(['ID', 'Comp', 'Circ', 'D.Circ', 'Rad.Ra', 'Pr.Axis.Ra', 'Max.L.Ra',\n",
      "       'Scat.Ra', 'Elong', 'Pr.Axis.Rect', 'Max.L.Rect', 'Sc.Var.Maxis',\n",
      "       'Sc.Var.maxis', 'Ra.Gyr', 'Skew.Maxis', 'Skew.maxis', 'Kurt.maxis',\n",
      "       'Kurt.Maxis', 'Holl.Ra', 'Class'],\n",
      "      dtype='object')\n"
     ]
    }
   ],
   "source": [
    "features = df.columns\n",
    "print(features)"
   ]
  },
  {
   "cell_type": "code",
   "execution_count": 38,
   "id": "4a788b60",
   "metadata": {},
   "outputs": [
    {
     "data": {
      "text/html": [
       "<div>\n",
       "<style scoped>\n",
       "    .dataframe tbody tr th:only-of-type {\n",
       "        vertical-align: middle;\n",
       "    }\n",
       "\n",
       "    .dataframe tbody tr th {\n",
       "        vertical-align: top;\n",
       "    }\n",
       "\n",
       "    .dataframe thead th {\n",
       "        text-align: right;\n",
       "    }\n",
       "</style>\n",
       "<table border=\"1\" class=\"dataframe\">\n",
       "  <thead>\n",
       "    <tr style=\"text-align: right;\">\n",
       "      <th></th>\n",
       "      <th>coefficient of variance</th>\n",
       "    </tr>\n",
       "  </thead>\n",
       "  <tbody>\n",
       "    <tr>\n",
       "      <th>ID</th>\n",
       "      <td>0.576949</td>\n",
       "    </tr>\n",
       "    <tr>\n",
       "      <th>Comp</th>\n",
       "      <td>0.086813</td>\n",
       "    </tr>\n",
       "    <tr>\n",
       "      <th>Circ</th>\n",
       "      <td>0.137126</td>\n",
       "    </tr>\n",
       "    <tr>\n",
       "      <th>D.Circ</th>\n",
       "      <td>0.190010</td>\n",
       "    </tr>\n",
       "    <tr>\n",
       "      <th>Rad.Ra</th>\n",
       "      <td>0.200553</td>\n",
       "    </tr>\n",
       "    <tr>\n",
       "      <th>Pr.Axis.Ra</th>\n",
       "      <td>0.133541</td>\n",
       "    </tr>\n",
       "    <tr>\n",
       "      <th>Max.L.Ra</th>\n",
       "      <td>0.570019</td>\n",
       "    </tr>\n",
       "    <tr>\n",
       "      <th>Scat.Ra</th>\n",
       "      <td>0.195897</td>\n",
       "    </tr>\n",
       "    <tr>\n",
       "      <th>Elong</th>\n",
       "      <td>0.189031</td>\n",
       "    </tr>\n",
       "    <tr>\n",
       "      <th>Pr.Axis.Rect</th>\n",
       "      <td>0.124735</td>\n",
       "    </tr>\n",
       "    <tr>\n",
       "      <th>Max.L.Rect</th>\n",
       "      <td>0.098359</td>\n",
       "    </tr>\n",
       "    <tr>\n",
       "      <th>Sc.Var.Maxis</th>\n",
       "      <td>0.165997</td>\n",
       "    </tr>\n",
       "    <tr>\n",
       "      <th>Sc.Var.maxis</th>\n",
       "      <td>0.401097</td>\n",
       "    </tr>\n",
       "    <tr>\n",
       "      <th>Ra.Gyr</th>\n",
       "      <td>0.184000</td>\n",
       "    </tr>\n",
       "    <tr>\n",
       "      <th>Skew.Maxis</th>\n",
       "      <td>0.103767</td>\n",
       "    </tr>\n",
       "    <tr>\n",
       "      <th>Skew.maxis</th>\n",
       "      <td>0.765531</td>\n",
       "    </tr>\n",
       "  </tbody>\n",
       "</table>\n",
       "</div>"
      ],
      "text/plain": [
       "              coefficient of variance\n",
       "ID                           0.576949\n",
       "Comp                         0.086813\n",
       "Circ                         0.137126\n",
       "D.Circ                       0.190010\n",
       "Rad.Ra                       0.200553\n",
       "Pr.Axis.Ra                   0.133541\n",
       "Max.L.Ra                     0.570019\n",
       "Scat.Ra                      0.195897\n",
       "Elong                        0.189031\n",
       "Pr.Axis.Rect                 0.124735\n",
       "Max.L.Rect                   0.098359\n",
       "Sc.Var.Maxis                 0.165997\n",
       "Sc.Var.maxis                 0.401097\n",
       "Ra.Gyr                       0.184000\n",
       "Skew.Maxis                   0.103767\n",
       "Skew.maxis                   0.765531"
      ]
     },
     "execution_count": 38,
     "metadata": {},
     "output_type": "execute_result"
    }
   ],
   "source": [
    "coeff_var = pd.DataFrame()\n",
    "coeff_var['coefficient of variance'] = df[features].std()/df[features].mean()\n",
    "coeff_var.head(16)"
   ]
  },
  {
   "cell_type": "markdown",
   "id": "6965f47c",
   "metadata": {},
   "source": [
    "## Train and test dataset preparation"
   ]
  },
  {
   "cell_type": "markdown",
   "id": "06c5c5ad",
   "metadata": {},
   "source": [
    " The dataset is split into 80%-20% for training and testing respectively."
   ]
  },
  {
   "cell_type": "code",
   "execution_count": 39,
   "id": "e70ead48",
   "metadata": {},
   "outputs": [],
   "source": [
    "X=df.drop( columns='Class')"
   ]
  },
  {
   "cell_type": "code",
   "execution_count": 40,
   "id": "b81bba8e",
   "metadata": {},
   "outputs": [],
   "source": [
    "data_X, data_Y = df.drop( columns='Class'), df[\"Class\"]\n",
    "train_X, test_X, train_Y, test_Y = train_test_split(data_X, data_Y, train_size=0.8, random_state=0, shuffle=True, stratify=data_Y)"
   ]
  },
  {
   "cell_type": "markdown",
   "id": "2e034671",
   "metadata": {},
   "source": [
    "## Testing networks"
   ]
  },
  {
   "cell_type": "markdown",
   "id": "60de5df0",
   "metadata": {},
   "source": [
    "To model the target label, three machine learning classification models were chosen (i.e) logistic regression, support vector machine and random forest classifier. Optimal parameters for each model were identified using GridSearch and the model with the best accuracy score is chosen for prediction on the test set."
   ]
  },
  {
   "cell_type": "code",
   "execution_count": 41,
   "id": "e5fd529a",
   "metadata": {},
   "outputs": [],
   "source": [
    "log_reg = LogisticRegression()\n",
    "parameters = {\n",
    "    'penalty': ['l2'],\n",
    "    'C': np.logspace(-3,3,7),\n",
    "    'solver': ['newton-cg', 'liblinear'],\n",
    "    'max_iter': [100]\n",
    "}"
   ]
  },
  {
   "cell_type": "code",
   "execution_count": 42,
   "id": "ace8ac4e",
   "metadata": {},
   "outputs": [
    {
     "name": "stdout",
     "output_type": "stream",
     "text": [
      "Fitting 5 folds for each of 42 candidates, totalling 210 fits\n",
      "[CV] END C=0.001, max_iter=100, penalty=l2, solver=newton-cg; total time=   0.3s\n",
      "[CV] END C=0.001, max_iter=100, penalty=l2, solver=newton-cg; total time=   0.3s\n",
      "[CV] END C=0.001, max_iter=100, penalty=l2, solver=newton-cg; total time=   0.2s\n",
      "[CV] END C=0.001, max_iter=100, penalty=l2, solver=newton-cg; total time=   0.2s\n",
      "[CV] END C=0.001, max_iter=100, penalty=l2, solver=newton-cg; total time=   0.2s\n",
      "[CV] END C=0.001, max_iter=100, penalty=l2, solver=liblinear; total time=   0.0s\n",
      "[CV] END C=0.001, max_iter=100, penalty=l2, solver=liblinear; total time=   0.0s\n",
      "[CV] END C=0.001, max_iter=100, penalty=l2, solver=liblinear; total time=   0.0s\n",
      "[CV] END C=0.001, max_iter=100, penalty=l2, solver=liblinear; total time=   0.0s\n",
      "[CV] END C=0.001, max_iter=100, penalty=l2, solver=liblinear; total time=   0.0s\n",
      "[CV] END C=0.001, max_iter=200, penalty=l2, solver=newton-cg; total time=   0.3s\n",
      "[CV] END C=0.001, max_iter=200, penalty=l2, solver=newton-cg; total time=   0.2s\n",
      "[CV] END C=0.001, max_iter=200, penalty=l2, solver=newton-cg; total time=   0.2s\n",
      "[CV] END C=0.001, max_iter=200, penalty=l2, solver=newton-cg; total time=   0.3s\n",
      "[CV] END C=0.001, max_iter=200, penalty=l2, solver=newton-cg; total time=   0.3s\n",
      "[CV] END C=0.001, max_iter=200, penalty=l2, solver=liblinear; total time=   0.0s\n",
      "[CV] END C=0.001, max_iter=200, penalty=l2, solver=liblinear; total time=   0.0s\n",
      "[CV] END C=0.001, max_iter=200, penalty=l2, solver=liblinear; total time=   0.0s\n",
      "[CV] END C=0.001, max_iter=200, penalty=l2, solver=liblinear; total time=   0.0s\n",
      "[CV] END C=0.001, max_iter=200, penalty=l2, solver=liblinear; total time=   0.0s\n",
      "[CV] END C=0.001, max_iter=400, penalty=l2, solver=newton-cg; total time=   0.3s\n",
      "[CV] END C=0.001, max_iter=400, penalty=l2, solver=newton-cg; total time=   0.2s\n",
      "[CV] END C=0.001, max_iter=400, penalty=l2, solver=newton-cg; total time=   0.2s\n",
      "[CV] END C=0.001, max_iter=400, penalty=l2, solver=newton-cg; total time=   0.2s\n",
      "[CV] END C=0.001, max_iter=400, penalty=l2, solver=newton-cg; total time=   0.2s\n",
      "[CV] END C=0.001, max_iter=400, penalty=l2, solver=liblinear; total time=   0.0s\n",
      "[CV] END C=0.001, max_iter=400, penalty=l2, solver=liblinear; total time=   0.0s\n",
      "[CV] END C=0.001, max_iter=400, penalty=l2, solver=liblinear; total time=   0.0s\n",
      "[CV] END C=0.001, max_iter=400, penalty=l2, solver=liblinear; total time=   0.0s\n",
      "[CV] END C=0.001, max_iter=400, penalty=l2, solver=liblinear; total time=   0.0s\n",
      "[CV] END .C=0.01, max_iter=100, penalty=l2, solver=newton-cg; total time=   0.6s\n",
      "[CV] END .C=0.01, max_iter=100, penalty=l2, solver=newton-cg; total time=   0.6s\n",
      "[CV] END .C=0.01, max_iter=100, penalty=l2, solver=newton-cg; total time=   0.5s\n",
      "[CV] END .C=0.01, max_iter=100, penalty=l2, solver=newton-cg; total time=   0.5s\n",
      "[CV] END .C=0.01, max_iter=100, penalty=l2, solver=newton-cg; total time=   0.5s\n",
      "[CV] END .C=0.01, max_iter=100, penalty=l2, solver=liblinear; total time=   0.0s\n",
      "[CV] END .C=0.01, max_iter=100, penalty=l2, solver=liblinear; total time=   0.0s\n",
      "[CV] END .C=0.01, max_iter=100, penalty=l2, solver=liblinear; total time=   0.0s\n",
      "[CV] END .C=0.01, max_iter=100, penalty=l2, solver=liblinear; total time=   0.0s\n",
      "[CV] END .C=0.01, max_iter=100, penalty=l2, solver=liblinear; total time=   0.0s\n",
      "[CV] END .C=0.01, max_iter=200, penalty=l2, solver=newton-cg; total time=   0.4s\n",
      "[CV] END .C=0.01, max_iter=200, penalty=l2, solver=newton-cg; total time=   0.5s\n",
      "[CV] END .C=0.01, max_iter=200, penalty=l2, solver=newton-cg; total time=   0.5s\n",
      "[CV] END .C=0.01, max_iter=200, penalty=l2, solver=newton-cg; total time=   0.5s\n",
      "[CV] END .C=0.01, max_iter=200, penalty=l2, solver=newton-cg; total time=   0.4s\n",
      "[CV] END .C=0.01, max_iter=200, penalty=l2, solver=liblinear; total time=   0.0s\n",
      "[CV] END .C=0.01, max_iter=200, penalty=l2, solver=liblinear; total time=   0.0s\n",
      "[CV] END .C=0.01, max_iter=200, penalty=l2, solver=liblinear; total time=   0.0s\n",
      "[CV] END .C=0.01, max_iter=200, penalty=l2, solver=liblinear; total time=   0.0s\n",
      "[CV] END .C=0.01, max_iter=200, penalty=l2, solver=liblinear; total time=   0.0s\n",
      "[CV] END .C=0.01, max_iter=400, penalty=l2, solver=newton-cg; total time=   0.4s\n",
      "[CV] END .C=0.01, max_iter=400, penalty=l2, solver=newton-cg; total time=   0.4s\n",
      "[CV] END .C=0.01, max_iter=400, penalty=l2, solver=newton-cg; total time=   0.5s\n",
      "[CV] END .C=0.01, max_iter=400, penalty=l2, solver=newton-cg; total time=   0.3s\n",
      "[CV] END .C=0.01, max_iter=400, penalty=l2, solver=newton-cg; total time=   0.5s\n",
      "[CV] END .C=0.01, max_iter=400, penalty=l2, solver=liblinear; total time=   0.0s\n",
      "[CV] END .C=0.01, max_iter=400, penalty=l2, solver=liblinear; total time=   0.0s\n",
      "[CV] END .C=0.01, max_iter=400, penalty=l2, solver=liblinear; total time=   0.0s\n",
      "[CV] END .C=0.01, max_iter=400, penalty=l2, solver=liblinear; total time=   0.0s\n",
      "[CV] END .C=0.01, max_iter=400, penalty=l2, solver=liblinear; total time=   0.0s\n"
     ]
    },
    {
     "name": "stderr",
     "output_type": "stream",
     "text": [
      "D:\\SOFTWARES\\New folder (3)\\lib\\site-packages\\sklearn\\utils\\optimize.py:210: ConvergenceWarning: newton-cg failed to converge. Increase the number of iterations.\n",
      "  warnings.warn(\n"
     ]
    },
    {
     "name": "stdout",
     "output_type": "stream",
     "text": [
      "[CV] END ..C=0.1, max_iter=100, penalty=l2, solver=newton-cg; total time=   0.9s\n"
     ]
    },
    {
     "name": "stderr",
     "output_type": "stream",
     "text": [
      "D:\\SOFTWARES\\New folder (3)\\lib\\site-packages\\sklearn\\utils\\optimize.py:210: ConvergenceWarning: newton-cg failed to converge. Increase the number of iterations.\n",
      "  warnings.warn(\n"
     ]
    },
    {
     "name": "stdout",
     "output_type": "stream",
     "text": [
      "[CV] END ..C=0.1, max_iter=100, penalty=l2, solver=newton-cg; total time=   0.8s\n"
     ]
    },
    {
     "name": "stderr",
     "output_type": "stream",
     "text": [
      "D:\\SOFTWARES\\New folder (3)\\lib\\site-packages\\sklearn\\utils\\optimize.py:210: ConvergenceWarning: newton-cg failed to converge. Increase the number of iterations.\n",
      "  warnings.warn(\n"
     ]
    },
    {
     "name": "stdout",
     "output_type": "stream",
     "text": [
      "[CV] END ..C=0.1, max_iter=100, penalty=l2, solver=newton-cg; total time=   0.8s\n"
     ]
    },
    {
     "name": "stderr",
     "output_type": "stream",
     "text": [
      "D:\\SOFTWARES\\New folder (3)\\lib\\site-packages\\sklearn\\utils\\optimize.py:210: ConvergenceWarning: newton-cg failed to converge. Increase the number of iterations.\n",
      "  warnings.warn(\n"
     ]
    },
    {
     "name": "stdout",
     "output_type": "stream",
     "text": [
      "[CV] END ..C=0.1, max_iter=100, penalty=l2, solver=newton-cg; total time=   0.8s\n"
     ]
    },
    {
     "name": "stderr",
     "output_type": "stream",
     "text": [
      "D:\\SOFTWARES\\New folder (3)\\lib\\site-packages\\sklearn\\utils\\optimize.py:210: ConvergenceWarning: newton-cg failed to converge. Increase the number of iterations.\n",
      "  warnings.warn(\n"
     ]
    },
    {
     "name": "stdout",
     "output_type": "stream",
     "text": [
      "[CV] END ..C=0.1, max_iter=100, penalty=l2, solver=newton-cg; total time=   0.7s\n",
      "[CV] END ..C=0.1, max_iter=100, penalty=l2, solver=liblinear; total time=   0.0s\n",
      "[CV] END ..C=0.1, max_iter=100, penalty=l2, solver=liblinear; total time=   0.0s\n",
      "[CV] END ..C=0.1, max_iter=100, penalty=l2, solver=liblinear; total time=   0.0s\n",
      "[CV] END ..C=0.1, max_iter=100, penalty=l2, solver=liblinear; total time=   0.0s\n",
      "[CV] END ..C=0.1, max_iter=100, penalty=l2, solver=liblinear; total time=   0.0s\n",
      "[CV] END ..C=0.1, max_iter=200, penalty=l2, solver=newton-cg; total time=   1.4s\n",
      "[CV] END ..C=0.1, max_iter=200, penalty=l2, solver=newton-cg; total time=   1.7s\n",
      "[CV] END ..C=0.1, max_iter=200, penalty=l2, solver=newton-cg; total time=   1.6s\n",
      "[CV] END ..C=0.1, max_iter=200, penalty=l2, solver=newton-cg; total time=   1.3s\n",
      "[CV] END ..C=0.1, max_iter=200, penalty=l2, solver=newton-cg; total time=   1.5s\n",
      "[CV] END ..C=0.1, max_iter=200, penalty=l2, solver=liblinear; total time=   0.0s\n",
      "[CV] END ..C=0.1, max_iter=200, penalty=l2, solver=liblinear; total time=   0.0s\n",
      "[CV] END ..C=0.1, max_iter=200, penalty=l2, solver=liblinear; total time=   0.0s\n",
      "[CV] END ..C=0.1, max_iter=200, penalty=l2, solver=liblinear; total time=   0.0s\n",
      "[CV] END ..C=0.1, max_iter=200, penalty=l2, solver=liblinear; total time=   0.0s\n",
      "[CV] END ..C=0.1, max_iter=400, penalty=l2, solver=newton-cg; total time=   1.4s\n",
      "[CV] END ..C=0.1, max_iter=400, penalty=l2, solver=newton-cg; total time=   1.7s\n",
      "[CV] END ..C=0.1, max_iter=400, penalty=l2, solver=newton-cg; total time=   1.2s\n",
      "[CV] END ..C=0.1, max_iter=400, penalty=l2, solver=newton-cg; total time=   1.4s\n",
      "[CV] END ..C=0.1, max_iter=400, penalty=l2, solver=newton-cg; total time=   1.8s\n",
      "[CV] END ..C=0.1, max_iter=400, penalty=l2, solver=liblinear; total time=   0.0s\n",
      "[CV] END ..C=0.1, max_iter=400, penalty=l2, solver=liblinear; total time=   0.0s\n",
      "[CV] END ..C=0.1, max_iter=400, penalty=l2, solver=liblinear; total time=   0.0s\n",
      "[CV] END ..C=0.1, max_iter=400, penalty=l2, solver=liblinear; total time=   0.0s\n",
      "[CV] END ..C=0.1, max_iter=400, penalty=l2, solver=liblinear; total time=   0.0s\n"
     ]
    },
    {
     "name": "stderr",
     "output_type": "stream",
     "text": [
      "D:\\SOFTWARES\\New folder (3)\\lib\\site-packages\\sklearn\\utils\\optimize.py:210: ConvergenceWarning: newton-cg failed to converge. Increase the number of iterations.\n",
      "  warnings.warn(\n"
     ]
    },
    {
     "name": "stdout",
     "output_type": "stream",
     "text": [
      "[CV] END ..C=1.0, max_iter=100, penalty=l2, solver=newton-cg; total time=   0.7s\n"
     ]
    },
    {
     "name": "stderr",
     "output_type": "stream",
     "text": [
      "D:\\SOFTWARES\\New folder (3)\\lib\\site-packages\\sklearn\\utils\\optimize.py:210: ConvergenceWarning: newton-cg failed to converge. Increase the number of iterations.\n",
      "  warnings.warn(\n"
     ]
    },
    {
     "name": "stdout",
     "output_type": "stream",
     "text": [
      "[CV] END ..C=1.0, max_iter=100, penalty=l2, solver=newton-cg; total time=   0.8s\n"
     ]
    },
    {
     "name": "stderr",
     "output_type": "stream",
     "text": [
      "D:\\SOFTWARES\\New folder (3)\\lib\\site-packages\\sklearn\\utils\\optimize.py:210: ConvergenceWarning: newton-cg failed to converge. Increase the number of iterations.\n",
      "  warnings.warn(\n"
     ]
    },
    {
     "name": "stdout",
     "output_type": "stream",
     "text": [
      "[CV] END ..C=1.0, max_iter=100, penalty=l2, solver=newton-cg; total time=   0.9s\n"
     ]
    },
    {
     "name": "stderr",
     "output_type": "stream",
     "text": [
      "D:\\SOFTWARES\\New folder (3)\\lib\\site-packages\\sklearn\\utils\\optimize.py:210: ConvergenceWarning: newton-cg failed to converge. Increase the number of iterations.\n",
      "  warnings.warn(\n"
     ]
    },
    {
     "name": "stdout",
     "output_type": "stream",
     "text": [
      "[CV] END ..C=1.0, max_iter=100, penalty=l2, solver=newton-cg; total time=   1.0s\n"
     ]
    },
    {
     "name": "stderr",
     "output_type": "stream",
     "text": [
      "D:\\SOFTWARES\\New folder (3)\\lib\\site-packages\\sklearn\\utils\\optimize.py:210: ConvergenceWarning: newton-cg failed to converge. Increase the number of iterations.\n",
      "  warnings.warn(\n"
     ]
    },
    {
     "name": "stdout",
     "output_type": "stream",
     "text": [
      "[CV] END ..C=1.0, max_iter=100, penalty=l2, solver=newton-cg; total time=   1.1s\n",
      "[CV] END ..C=1.0, max_iter=100, penalty=l2, solver=liblinear; total time=   0.0s\n",
      "[CV] END ..C=1.0, max_iter=100, penalty=l2, solver=liblinear; total time=   0.0s\n",
      "[CV] END ..C=1.0, max_iter=100, penalty=l2, solver=liblinear; total time=   0.0s\n",
      "[CV] END ..C=1.0, max_iter=100, penalty=l2, solver=liblinear; total time=   0.0s\n",
      "[CV] END ..C=1.0, max_iter=100, penalty=l2, solver=liblinear; total time=   0.0s\n"
     ]
    },
    {
     "name": "stderr",
     "output_type": "stream",
     "text": [
      "D:\\SOFTWARES\\New folder (3)\\lib\\site-packages\\sklearn\\utils\\optimize.py:210: ConvergenceWarning: newton-cg failed to converge. Increase the number of iterations.\n",
      "  warnings.warn(\n"
     ]
    },
    {
     "name": "stdout",
     "output_type": "stream",
     "text": [
      "[CV] END ..C=1.0, max_iter=200, penalty=l2, solver=newton-cg; total time=   2.3s\n"
     ]
    },
    {
     "name": "stderr",
     "output_type": "stream",
     "text": [
      "D:\\SOFTWARES\\New folder (3)\\lib\\site-packages\\sklearn\\utils\\optimize.py:210: ConvergenceWarning: newton-cg failed to converge. Increase the number of iterations.\n",
      "  warnings.warn(\n"
     ]
    },
    {
     "name": "stdout",
     "output_type": "stream",
     "text": [
      "[CV] END ..C=1.0, max_iter=200, penalty=l2, solver=newton-cg; total time=   1.8s\n"
     ]
    },
    {
     "name": "stderr",
     "output_type": "stream",
     "text": [
      "D:\\SOFTWARES\\New folder (3)\\lib\\site-packages\\sklearn\\utils\\optimize.py:210: ConvergenceWarning: newton-cg failed to converge. Increase the number of iterations.\n",
      "  warnings.warn(\n"
     ]
    },
    {
     "name": "stdout",
     "output_type": "stream",
     "text": [
      "[CV] END ..C=1.0, max_iter=200, penalty=l2, solver=newton-cg; total time=   1.9s\n"
     ]
    },
    {
     "name": "stderr",
     "output_type": "stream",
     "text": [
      "D:\\SOFTWARES\\New folder (3)\\lib\\site-packages\\sklearn\\utils\\optimize.py:210: ConvergenceWarning: newton-cg failed to converge. Increase the number of iterations.\n",
      "  warnings.warn(\n"
     ]
    },
    {
     "name": "stdout",
     "output_type": "stream",
     "text": [
      "[CV] END ..C=1.0, max_iter=200, penalty=l2, solver=newton-cg; total time=   1.6s\n"
     ]
    },
    {
     "name": "stderr",
     "output_type": "stream",
     "text": [
      "D:\\SOFTWARES\\New folder (3)\\lib\\site-packages\\sklearn\\utils\\optimize.py:210: ConvergenceWarning: newton-cg failed to converge. Increase the number of iterations.\n",
      "  warnings.warn(\n"
     ]
    },
    {
     "name": "stdout",
     "output_type": "stream",
     "text": [
      "[CV] END ..C=1.0, max_iter=200, penalty=l2, solver=newton-cg; total time=   2.1s\n",
      "[CV] END ..C=1.0, max_iter=200, penalty=l2, solver=liblinear; total time=   0.0s\n",
      "[CV] END ..C=1.0, max_iter=200, penalty=l2, solver=liblinear; total time=   0.0s\n",
      "[CV] END ..C=1.0, max_iter=200, penalty=l2, solver=liblinear; total time=   0.0s\n",
      "[CV] END ..C=1.0, max_iter=200, penalty=l2, solver=liblinear; total time=   0.0s\n",
      "[CV] END ..C=1.0, max_iter=200, penalty=l2, solver=liblinear; total time=   0.0s\n"
     ]
    },
    {
     "name": "stderr",
     "output_type": "stream",
     "text": [
      "D:\\SOFTWARES\\New folder (3)\\lib\\site-packages\\sklearn\\utils\\optimize.py:210: ConvergenceWarning: newton-cg failed to converge. Increase the number of iterations.\n",
      "  warnings.warn(\n"
     ]
    },
    {
     "name": "stdout",
     "output_type": "stream",
     "text": [
      "[CV] END ..C=1.0, max_iter=400, penalty=l2, solver=newton-cg; total time=   4.3s\n"
     ]
    },
    {
     "name": "stderr",
     "output_type": "stream",
     "text": [
      "D:\\SOFTWARES\\New folder (3)\\lib\\site-packages\\sklearn\\utils\\optimize.py:210: ConvergenceWarning: newton-cg failed to converge. Increase the number of iterations.\n",
      "  warnings.warn(\n"
     ]
    },
    {
     "name": "stdout",
     "output_type": "stream",
     "text": [
      "[CV] END ..C=1.0, max_iter=400, penalty=l2, solver=newton-cg; total time=   3.8s\n"
     ]
    },
    {
     "name": "stderr",
     "output_type": "stream",
     "text": [
      "D:\\SOFTWARES\\New folder (3)\\lib\\site-packages\\sklearn\\utils\\optimize.py:210: ConvergenceWarning: newton-cg failed to converge. Increase the number of iterations.\n",
      "  warnings.warn(\n"
     ]
    },
    {
     "name": "stdout",
     "output_type": "stream",
     "text": [
      "[CV] END ..C=1.0, max_iter=400, penalty=l2, solver=newton-cg; total time=   4.6s\n"
     ]
    },
    {
     "name": "stderr",
     "output_type": "stream",
     "text": [
      "D:\\SOFTWARES\\New folder (3)\\lib\\site-packages\\sklearn\\utils\\optimize.py:210: ConvergenceWarning: newton-cg failed to converge. Increase the number of iterations.\n",
      "  warnings.warn(\n"
     ]
    },
    {
     "name": "stdout",
     "output_type": "stream",
     "text": [
      "[CV] END ..C=1.0, max_iter=400, penalty=l2, solver=newton-cg; total time=   4.1s\n"
     ]
    },
    {
     "name": "stderr",
     "output_type": "stream",
     "text": [
      "D:\\SOFTWARES\\New folder (3)\\lib\\site-packages\\scipy\\optimize\\linesearch.py:478: LineSearchWarning: The line search algorithm did not converge\n",
      "  warn('The line search algorithm did not converge', LineSearchWarning)\n",
      "D:\\SOFTWARES\\New folder (3)\\lib\\site-packages\\scipy\\optimize\\linesearch.py:327: LineSearchWarning: The line search algorithm did not converge\n",
      "  warn('The line search algorithm did not converge', LineSearchWarning)\n",
      "D:\\SOFTWARES\\New folder (3)\\lib\\site-packages\\sklearn\\utils\\optimize.py:210: ConvergenceWarning: newton-cg failed to converge. Increase the number of iterations.\n",
      "  warnings.warn(\n"
     ]
    },
    {
     "name": "stdout",
     "output_type": "stream",
     "text": [
      "[CV] END ..C=1.0, max_iter=400, penalty=l2, solver=newton-cg; total time=   4.7s\n",
      "[CV] END ..C=1.0, max_iter=400, penalty=l2, solver=liblinear; total time=   0.0s\n",
      "[CV] END ..C=1.0, max_iter=400, penalty=l2, solver=liblinear; total time=   0.0s\n",
      "[CV] END ..C=1.0, max_iter=400, penalty=l2, solver=liblinear; total time=   0.0s\n",
      "[CV] END ..C=1.0, max_iter=400, penalty=l2, solver=liblinear; total time=   0.0s\n",
      "[CV] END ..C=1.0, max_iter=400, penalty=l2, solver=liblinear; total time=   0.0s\n"
     ]
    },
    {
     "name": "stderr",
     "output_type": "stream",
     "text": [
      "D:\\SOFTWARES\\New folder (3)\\lib\\site-packages\\sklearn\\utils\\optimize.py:210: ConvergenceWarning: newton-cg failed to converge. Increase the number of iterations.\n",
      "  warnings.warn(\n"
     ]
    },
    {
     "name": "stdout",
     "output_type": "stream",
     "text": [
      "[CV] END .C=10.0, max_iter=100, penalty=l2, solver=newton-cg; total time=   0.7s\n"
     ]
    },
    {
     "name": "stderr",
     "output_type": "stream",
     "text": [
      "D:\\SOFTWARES\\New folder (3)\\lib\\site-packages\\sklearn\\utils\\optimize.py:210: ConvergenceWarning: newton-cg failed to converge. Increase the number of iterations.\n",
      "  warnings.warn(\n"
     ]
    },
    {
     "name": "stdout",
     "output_type": "stream",
     "text": [
      "[CV] END .C=10.0, max_iter=100, penalty=l2, solver=newton-cg; total time=   0.7s\n"
     ]
    },
    {
     "name": "stderr",
     "output_type": "stream",
     "text": [
      "D:\\SOFTWARES\\New folder (3)\\lib\\site-packages\\sklearn\\utils\\optimize.py:210: ConvergenceWarning: newton-cg failed to converge. Increase the number of iterations.\n",
      "  warnings.warn(\n"
     ]
    },
    {
     "name": "stdout",
     "output_type": "stream",
     "text": [
      "[CV] END .C=10.0, max_iter=100, penalty=l2, solver=newton-cg; total time=   0.6s\n"
     ]
    },
    {
     "name": "stderr",
     "output_type": "stream",
     "text": [
      "D:\\SOFTWARES\\New folder (3)\\lib\\site-packages\\sklearn\\utils\\optimize.py:210: ConvergenceWarning: newton-cg failed to converge. Increase the number of iterations.\n",
      "  warnings.warn(\n"
     ]
    },
    {
     "name": "stdout",
     "output_type": "stream",
     "text": [
      "[CV] END .C=10.0, max_iter=100, penalty=l2, solver=newton-cg; total time=   0.8s\n"
     ]
    },
    {
     "name": "stderr",
     "output_type": "stream",
     "text": [
      "D:\\SOFTWARES\\New folder (3)\\lib\\site-packages\\sklearn\\utils\\optimize.py:210: ConvergenceWarning: newton-cg failed to converge. Increase the number of iterations.\n",
      "  warnings.warn(\n"
     ]
    },
    {
     "name": "stdout",
     "output_type": "stream",
     "text": [
      "[CV] END .C=10.0, max_iter=100, penalty=l2, solver=newton-cg; total time=   1.0s\n",
      "[CV] END .C=10.0, max_iter=100, penalty=l2, solver=liblinear; total time=   0.0s\n",
      "[CV] END .C=10.0, max_iter=100, penalty=l2, solver=liblinear; total time=   0.0s\n",
      "[CV] END .C=10.0, max_iter=100, penalty=l2, solver=liblinear; total time=   0.0s\n",
      "[CV] END .C=10.0, max_iter=100, penalty=l2, solver=liblinear; total time=   0.0s\n",
      "[CV] END .C=10.0, max_iter=100, penalty=l2, solver=liblinear; total time=   0.0s\n"
     ]
    },
    {
     "name": "stderr",
     "output_type": "stream",
     "text": [
      "D:\\SOFTWARES\\New folder (3)\\lib\\site-packages\\sklearn\\utils\\optimize.py:210: ConvergenceWarning: newton-cg failed to converge. Increase the number of iterations.\n",
      "  warnings.warn(\n"
     ]
    },
    {
     "name": "stdout",
     "output_type": "stream",
     "text": [
      "[CV] END .C=10.0, max_iter=200, penalty=l2, solver=newton-cg; total time=   1.9s\n"
     ]
    },
    {
     "name": "stderr",
     "output_type": "stream",
     "text": [
      "D:\\SOFTWARES\\New folder (3)\\lib\\site-packages\\sklearn\\utils\\optimize.py:210: ConvergenceWarning: newton-cg failed to converge. Increase the number of iterations.\n",
      "  warnings.warn(\n"
     ]
    },
    {
     "name": "stdout",
     "output_type": "stream",
     "text": [
      "[CV] END .C=10.0, max_iter=200, penalty=l2, solver=newton-cg; total time=   1.7s\n"
     ]
    },
    {
     "name": "stderr",
     "output_type": "stream",
     "text": [
      "D:\\SOFTWARES\\New folder (3)\\lib\\site-packages\\sklearn\\utils\\optimize.py:210: ConvergenceWarning: newton-cg failed to converge. Increase the number of iterations.\n",
      "  warnings.warn(\n"
     ]
    },
    {
     "name": "stdout",
     "output_type": "stream",
     "text": [
      "[CV] END .C=10.0, max_iter=200, penalty=l2, solver=newton-cg; total time=   2.3s\n"
     ]
    },
    {
     "name": "stderr",
     "output_type": "stream",
     "text": [
      "D:\\SOFTWARES\\New folder (3)\\lib\\site-packages\\sklearn\\utils\\optimize.py:210: ConvergenceWarning: newton-cg failed to converge. Increase the number of iterations.\n",
      "  warnings.warn(\n"
     ]
    },
    {
     "name": "stdout",
     "output_type": "stream",
     "text": [
      "[CV] END .C=10.0, max_iter=200, penalty=l2, solver=newton-cg; total time=   2.3s\n"
     ]
    },
    {
     "name": "stderr",
     "output_type": "stream",
     "text": [
      "D:\\SOFTWARES\\New folder (3)\\lib\\site-packages\\sklearn\\utils\\optimize.py:210: ConvergenceWarning: newton-cg failed to converge. Increase the number of iterations.\n",
      "  warnings.warn(\n"
     ]
    },
    {
     "name": "stdout",
     "output_type": "stream",
     "text": [
      "[CV] END .C=10.0, max_iter=200, penalty=l2, solver=newton-cg; total time=   2.3s\n",
      "[CV] END .C=10.0, max_iter=200, penalty=l2, solver=liblinear; total time=   0.0s\n",
      "[CV] END .C=10.0, max_iter=200, penalty=l2, solver=liblinear; total time=   0.0s\n",
      "[CV] END .C=10.0, max_iter=200, penalty=l2, solver=liblinear; total time=   0.0s\n",
      "[CV] END .C=10.0, max_iter=200, penalty=l2, solver=liblinear; total time=   0.0s\n",
      "[CV] END .C=10.0, max_iter=200, penalty=l2, solver=liblinear; total time=   0.0s\n"
     ]
    },
    {
     "name": "stderr",
     "output_type": "stream",
     "text": [
      "D:\\SOFTWARES\\New folder (3)\\lib\\site-packages\\sklearn\\utils\\optimize.py:210: ConvergenceWarning: newton-cg failed to converge. Increase the number of iterations.\n",
      "  warnings.warn(\n"
     ]
    },
    {
     "name": "stdout",
     "output_type": "stream",
     "text": [
      "[CV] END .C=10.0, max_iter=400, penalty=l2, solver=newton-cg; total time=   4.9s\n"
     ]
    },
    {
     "name": "stderr",
     "output_type": "stream",
     "text": [
      "D:\\SOFTWARES\\New folder (3)\\lib\\site-packages\\sklearn\\utils\\optimize.py:210: ConvergenceWarning: newton-cg failed to converge. Increase the number of iterations.\n",
      "  warnings.warn(\n"
     ]
    },
    {
     "name": "stdout",
     "output_type": "stream",
     "text": [
      "[CV] END .C=10.0, max_iter=400, penalty=l2, solver=newton-cg; total time=   4.5s\n"
     ]
    },
    {
     "name": "stderr",
     "output_type": "stream",
     "text": [
      "D:\\SOFTWARES\\New folder (3)\\lib\\site-packages\\sklearn\\utils\\optimize.py:210: ConvergenceWarning: newton-cg failed to converge. Increase the number of iterations.\n",
      "  warnings.warn(\n"
     ]
    },
    {
     "name": "stdout",
     "output_type": "stream",
     "text": [
      "[CV] END .C=10.0, max_iter=400, penalty=l2, solver=newton-cg; total time=   5.3s\n"
     ]
    },
    {
     "name": "stderr",
     "output_type": "stream",
     "text": [
      "D:\\SOFTWARES\\New folder (3)\\lib\\site-packages\\sklearn\\utils\\optimize.py:210: ConvergenceWarning: newton-cg failed to converge. Increase the number of iterations.\n",
      "  warnings.warn(\n"
     ]
    },
    {
     "name": "stdout",
     "output_type": "stream",
     "text": [
      "[CV] END .C=10.0, max_iter=400, penalty=l2, solver=newton-cg; total time=   5.0s\n"
     ]
    },
    {
     "name": "stderr",
     "output_type": "stream",
     "text": [
      "D:\\SOFTWARES\\New folder (3)\\lib\\site-packages\\sklearn\\utils\\optimize.py:210: ConvergenceWarning: newton-cg failed to converge. Increase the number of iterations.\n",
      "  warnings.warn(\n"
     ]
    },
    {
     "name": "stdout",
     "output_type": "stream",
     "text": [
      "[CV] END .C=10.0, max_iter=400, penalty=l2, solver=newton-cg; total time=   5.2s\n",
      "[CV] END .C=10.0, max_iter=400, penalty=l2, solver=liblinear; total time=   0.0s\n",
      "[CV] END .C=10.0, max_iter=400, penalty=l2, solver=liblinear; total time=   0.0s\n",
      "[CV] END .C=10.0, max_iter=400, penalty=l2, solver=liblinear; total time=   0.0s\n",
      "[CV] END .C=10.0, max_iter=400, penalty=l2, solver=liblinear; total time=   0.0s\n",
      "[CV] END .C=10.0, max_iter=400, penalty=l2, solver=liblinear; total time=   0.0s\n"
     ]
    },
    {
     "name": "stderr",
     "output_type": "stream",
     "text": [
      "D:\\SOFTWARES\\New folder (3)\\lib\\site-packages\\sklearn\\utils\\optimize.py:210: ConvergenceWarning: newton-cg failed to converge. Increase the number of iterations.\n",
      "  warnings.warn(\n"
     ]
    },
    {
     "name": "stdout",
     "output_type": "stream",
     "text": [
      "[CV] END C=100.0, max_iter=100, penalty=l2, solver=newton-cg; total time=   1.1s\n"
     ]
    },
    {
     "name": "stderr",
     "output_type": "stream",
     "text": [
      "D:\\SOFTWARES\\New folder (3)\\lib\\site-packages\\sklearn\\utils\\optimize.py:210: ConvergenceWarning: newton-cg failed to converge. Increase the number of iterations.\n",
      "  warnings.warn(\n"
     ]
    },
    {
     "name": "stdout",
     "output_type": "stream",
     "text": [
      "[CV] END C=100.0, max_iter=100, penalty=l2, solver=newton-cg; total time=   0.8s\n"
     ]
    },
    {
     "name": "stderr",
     "output_type": "stream",
     "text": [
      "D:\\SOFTWARES\\New folder (3)\\lib\\site-packages\\sklearn\\utils\\optimize.py:210: ConvergenceWarning: newton-cg failed to converge. Increase the number of iterations.\n",
      "  warnings.warn(\n"
     ]
    },
    {
     "name": "stdout",
     "output_type": "stream",
     "text": [
      "[CV] END C=100.0, max_iter=100, penalty=l2, solver=newton-cg; total time=   1.0s\n"
     ]
    },
    {
     "name": "stderr",
     "output_type": "stream",
     "text": [
      "D:\\SOFTWARES\\New folder (3)\\lib\\site-packages\\sklearn\\utils\\optimize.py:210: ConvergenceWarning: newton-cg failed to converge. Increase the number of iterations.\n",
      "  warnings.warn(\n"
     ]
    },
    {
     "name": "stdout",
     "output_type": "stream",
     "text": [
      "[CV] END C=100.0, max_iter=100, penalty=l2, solver=newton-cg; total time=   0.7s\n"
     ]
    },
    {
     "name": "stderr",
     "output_type": "stream",
     "text": [
      "D:\\SOFTWARES\\New folder (3)\\lib\\site-packages\\sklearn\\utils\\optimize.py:210: ConvergenceWarning: newton-cg failed to converge. Increase the number of iterations.\n",
      "  warnings.warn(\n"
     ]
    },
    {
     "name": "stdout",
     "output_type": "stream",
     "text": [
      "[CV] END C=100.0, max_iter=100, penalty=l2, solver=newton-cg; total time=   1.0s\n",
      "[CV] END C=100.0, max_iter=100, penalty=l2, solver=liblinear; total time=   0.0s\n",
      "[CV] END C=100.0, max_iter=100, penalty=l2, solver=liblinear; total time=   0.0s\n",
      "[CV] END C=100.0, max_iter=100, penalty=l2, solver=liblinear; total time=   0.0s\n",
      "[CV] END C=100.0, max_iter=100, penalty=l2, solver=liblinear; total time=   0.0s\n",
      "[CV] END C=100.0, max_iter=100, penalty=l2, solver=liblinear; total time=   0.0s\n"
     ]
    },
    {
     "name": "stderr",
     "output_type": "stream",
     "text": [
      "D:\\SOFTWARES\\New folder (3)\\lib\\site-packages\\sklearn\\utils\\optimize.py:210: ConvergenceWarning: newton-cg failed to converge. Increase the number of iterations.\n",
      "  warnings.warn(\n"
     ]
    },
    {
     "name": "stdout",
     "output_type": "stream",
     "text": [
      "[CV] END C=100.0, max_iter=200, penalty=l2, solver=newton-cg; total time=   2.1s\n"
     ]
    },
    {
     "name": "stderr",
     "output_type": "stream",
     "text": [
      "D:\\SOFTWARES\\New folder (3)\\lib\\site-packages\\sklearn\\utils\\optimize.py:210: ConvergenceWarning: newton-cg failed to converge. Increase the number of iterations.\n",
      "  warnings.warn(\n"
     ]
    },
    {
     "name": "stdout",
     "output_type": "stream",
     "text": [
      "[CV] END C=100.0, max_iter=200, penalty=l2, solver=newton-cg; total time=   2.0s\n"
     ]
    },
    {
     "name": "stderr",
     "output_type": "stream",
     "text": [
      "D:\\SOFTWARES\\New folder (3)\\lib\\site-packages\\sklearn\\utils\\optimize.py:210: ConvergenceWarning: newton-cg failed to converge. Increase the number of iterations.\n",
      "  warnings.warn(\n"
     ]
    },
    {
     "name": "stdout",
     "output_type": "stream",
     "text": [
      "[CV] END C=100.0, max_iter=200, penalty=l2, solver=newton-cg; total time=   2.2s\n"
     ]
    },
    {
     "name": "stderr",
     "output_type": "stream",
     "text": [
      "D:\\SOFTWARES\\New folder (3)\\lib\\site-packages\\sklearn\\utils\\optimize.py:210: ConvergenceWarning: newton-cg failed to converge. Increase the number of iterations.\n",
      "  warnings.warn(\n"
     ]
    },
    {
     "name": "stdout",
     "output_type": "stream",
     "text": [
      "[CV] END C=100.0, max_iter=200, penalty=l2, solver=newton-cg; total time=   1.9s\n"
     ]
    },
    {
     "name": "stderr",
     "output_type": "stream",
     "text": [
      "D:\\SOFTWARES\\New folder (3)\\lib\\site-packages\\sklearn\\utils\\optimize.py:210: ConvergenceWarning: newton-cg failed to converge. Increase the number of iterations.\n",
      "  warnings.warn(\n"
     ]
    },
    {
     "name": "stdout",
     "output_type": "stream",
     "text": [
      "[CV] END C=100.0, max_iter=200, penalty=l2, solver=newton-cg; total time=   2.2s\n",
      "[CV] END C=100.0, max_iter=200, penalty=l2, solver=liblinear; total time=   0.0s\n",
      "[CV] END C=100.0, max_iter=200, penalty=l2, solver=liblinear; total time=   0.0s\n",
      "[CV] END C=100.0, max_iter=200, penalty=l2, solver=liblinear; total time=   0.0s\n",
      "[CV] END C=100.0, max_iter=200, penalty=l2, solver=liblinear; total time=   0.0s\n",
      "[CV] END C=100.0, max_iter=200, penalty=l2, solver=liblinear; total time=   0.0s\n"
     ]
    },
    {
     "name": "stderr",
     "output_type": "stream",
     "text": [
      "D:\\SOFTWARES\\New folder (3)\\lib\\site-packages\\sklearn\\utils\\optimize.py:210: ConvergenceWarning: newton-cg failed to converge. Increase the number of iterations.\n",
      "  warnings.warn(\n"
     ]
    },
    {
     "name": "stdout",
     "output_type": "stream",
     "text": [
      "[CV] END C=100.0, max_iter=400, penalty=l2, solver=newton-cg; total time=   5.3s\n"
     ]
    },
    {
     "name": "stderr",
     "output_type": "stream",
     "text": [
      "D:\\SOFTWARES\\New folder (3)\\lib\\site-packages\\sklearn\\utils\\optimize.py:210: ConvergenceWarning: newton-cg failed to converge. Increase the number of iterations.\n",
      "  warnings.warn(\n"
     ]
    },
    {
     "name": "stdout",
     "output_type": "stream",
     "text": [
      "[CV] END C=100.0, max_iter=400, penalty=l2, solver=newton-cg; total time=   5.6s\n"
     ]
    },
    {
     "name": "stderr",
     "output_type": "stream",
     "text": [
      "D:\\SOFTWARES\\New folder (3)\\lib\\site-packages\\sklearn\\utils\\optimize.py:210: ConvergenceWarning: newton-cg failed to converge. Increase the number of iterations.\n",
      "  warnings.warn(\n"
     ]
    },
    {
     "name": "stdout",
     "output_type": "stream",
     "text": [
      "[CV] END C=100.0, max_iter=400, penalty=l2, solver=newton-cg; total time=   5.8s\n"
     ]
    },
    {
     "name": "stderr",
     "output_type": "stream",
     "text": [
      "D:\\SOFTWARES\\New folder (3)\\lib\\site-packages\\sklearn\\utils\\optimize.py:210: ConvergenceWarning: newton-cg failed to converge. Increase the number of iterations.\n",
      "  warnings.warn(\n"
     ]
    },
    {
     "name": "stdout",
     "output_type": "stream",
     "text": [
      "[CV] END C=100.0, max_iter=400, penalty=l2, solver=newton-cg; total time=   8.2s\n"
     ]
    },
    {
     "name": "stderr",
     "output_type": "stream",
     "text": [
      "D:\\SOFTWARES\\New folder (3)\\lib\\site-packages\\sklearn\\utils\\optimize.py:210: ConvergenceWarning: newton-cg failed to converge. Increase the number of iterations.\n",
      "  warnings.warn(\n"
     ]
    },
    {
     "name": "stdout",
     "output_type": "stream",
     "text": [
      "[CV] END C=100.0, max_iter=400, penalty=l2, solver=newton-cg; total time=   6.1s\n",
      "[CV] END C=100.0, max_iter=400, penalty=l2, solver=liblinear; total time=   0.0s\n",
      "[CV] END C=100.0, max_iter=400, penalty=l2, solver=liblinear; total time=   0.0s\n",
      "[CV] END C=100.0, max_iter=400, penalty=l2, solver=liblinear; total time=   0.0s\n",
      "[CV] END C=100.0, max_iter=400, penalty=l2, solver=liblinear; total time=   0.0s\n",
      "[CV] END C=100.0, max_iter=400, penalty=l2, solver=liblinear; total time=   0.0s\n"
     ]
    },
    {
     "name": "stderr",
     "output_type": "stream",
     "text": [
      "D:\\SOFTWARES\\New folder (3)\\lib\\site-packages\\sklearn\\utils\\optimize.py:210: ConvergenceWarning: newton-cg failed to converge. Increase the number of iterations.\n",
      "  warnings.warn(\n"
     ]
    },
    {
     "name": "stdout",
     "output_type": "stream",
     "text": [
      "[CV] END C=1000.0, max_iter=100, penalty=l2, solver=newton-cg; total time=   1.0s\n"
     ]
    },
    {
     "name": "stderr",
     "output_type": "stream",
     "text": [
      "D:\\SOFTWARES\\New folder (3)\\lib\\site-packages\\sklearn\\utils\\optimize.py:210: ConvergenceWarning: newton-cg failed to converge. Increase the number of iterations.\n",
      "  warnings.warn(\n"
     ]
    },
    {
     "name": "stdout",
     "output_type": "stream",
     "text": [
      "[CV] END C=1000.0, max_iter=100, penalty=l2, solver=newton-cg; total time=   1.2s\n"
     ]
    },
    {
     "name": "stderr",
     "output_type": "stream",
     "text": [
      "D:\\SOFTWARES\\New folder (3)\\lib\\site-packages\\sklearn\\utils\\optimize.py:210: ConvergenceWarning: newton-cg failed to converge. Increase the number of iterations.\n",
      "  warnings.warn(\n"
     ]
    },
    {
     "name": "stdout",
     "output_type": "stream",
     "text": [
      "[CV] END C=1000.0, max_iter=100, penalty=l2, solver=newton-cg; total time=   1.2s\n"
     ]
    },
    {
     "name": "stderr",
     "output_type": "stream",
     "text": [
      "D:\\SOFTWARES\\New folder (3)\\lib\\site-packages\\sklearn\\utils\\optimize.py:210: ConvergenceWarning: newton-cg failed to converge. Increase the number of iterations.\n",
      "  warnings.warn(\n"
     ]
    },
    {
     "name": "stdout",
     "output_type": "stream",
     "text": [
      "[CV] END C=1000.0, max_iter=100, penalty=l2, solver=newton-cg; total time=   1.0s\n"
     ]
    },
    {
     "name": "stderr",
     "output_type": "stream",
     "text": [
      "D:\\SOFTWARES\\New folder (3)\\lib\\site-packages\\sklearn\\utils\\optimize.py:210: ConvergenceWarning: newton-cg failed to converge. Increase the number of iterations.\n",
      "  warnings.warn(\n"
     ]
    },
    {
     "name": "stdout",
     "output_type": "stream",
     "text": [
      "[CV] END C=1000.0, max_iter=100, penalty=l2, solver=newton-cg; total time=   1.0s\n",
      "[CV] END C=1000.0, max_iter=100, penalty=l2, solver=liblinear; total time=   0.0s\n",
      "[CV] END C=1000.0, max_iter=100, penalty=l2, solver=liblinear; total time=   0.0s\n",
      "[CV] END C=1000.0, max_iter=100, penalty=l2, solver=liblinear; total time=   0.0s\n",
      "[CV] END C=1000.0, max_iter=100, penalty=l2, solver=liblinear; total time=   0.0s\n",
      "[CV] END C=1000.0, max_iter=100, penalty=l2, solver=liblinear; total time=   0.0s\n"
     ]
    },
    {
     "name": "stderr",
     "output_type": "stream",
     "text": [
      "D:\\SOFTWARES\\New folder (3)\\lib\\site-packages\\sklearn\\utils\\optimize.py:210: ConvergenceWarning: newton-cg failed to converge. Increase the number of iterations.\n",
      "  warnings.warn(\n"
     ]
    },
    {
     "name": "stdout",
     "output_type": "stream",
     "text": [
      "[CV] END C=1000.0, max_iter=200, penalty=l2, solver=newton-cg; total time=   2.6s\n"
     ]
    },
    {
     "name": "stderr",
     "output_type": "stream",
     "text": [
      "D:\\SOFTWARES\\New folder (3)\\lib\\site-packages\\sklearn\\utils\\optimize.py:210: ConvergenceWarning: newton-cg failed to converge. Increase the number of iterations.\n",
      "  warnings.warn(\n"
     ]
    },
    {
     "name": "stdout",
     "output_type": "stream",
     "text": [
      "[CV] END C=1000.0, max_iter=200, penalty=l2, solver=newton-cg; total time=   2.4s\n"
     ]
    },
    {
     "name": "stderr",
     "output_type": "stream",
     "text": [
      "D:\\SOFTWARES\\New folder (3)\\lib\\site-packages\\sklearn\\utils\\optimize.py:210: ConvergenceWarning: newton-cg failed to converge. Increase the number of iterations.\n",
      "  warnings.warn(\n"
     ]
    },
    {
     "name": "stdout",
     "output_type": "stream",
     "text": [
      "[CV] END C=1000.0, max_iter=200, penalty=l2, solver=newton-cg; total time=   2.5s\n"
     ]
    },
    {
     "name": "stderr",
     "output_type": "stream",
     "text": [
      "D:\\SOFTWARES\\New folder (3)\\lib\\site-packages\\sklearn\\utils\\optimize.py:210: ConvergenceWarning: newton-cg failed to converge. Increase the number of iterations.\n",
      "  warnings.warn(\n"
     ]
    },
    {
     "name": "stdout",
     "output_type": "stream",
     "text": [
      "[CV] END C=1000.0, max_iter=200, penalty=l2, solver=newton-cg; total time=   2.5s\n"
     ]
    },
    {
     "name": "stderr",
     "output_type": "stream",
     "text": [
      "D:\\SOFTWARES\\New folder (3)\\lib\\site-packages\\sklearn\\utils\\optimize.py:210: ConvergenceWarning: newton-cg failed to converge. Increase the number of iterations.\n",
      "  warnings.warn(\n"
     ]
    },
    {
     "name": "stdout",
     "output_type": "stream",
     "text": [
      "[CV] END C=1000.0, max_iter=200, penalty=l2, solver=newton-cg; total time=   2.8s\n",
      "[CV] END C=1000.0, max_iter=200, penalty=l2, solver=liblinear; total time=   0.0s\n",
      "[CV] END C=1000.0, max_iter=200, penalty=l2, solver=liblinear; total time=   0.0s\n",
      "[CV] END C=1000.0, max_iter=200, penalty=l2, solver=liblinear; total time=   0.0s\n",
      "[CV] END C=1000.0, max_iter=200, penalty=l2, solver=liblinear; total time=   0.0s\n",
      "[CV] END C=1000.0, max_iter=200, penalty=l2, solver=liblinear; total time=   0.0s\n"
     ]
    },
    {
     "name": "stderr",
     "output_type": "stream",
     "text": [
      "D:\\SOFTWARES\\New folder (3)\\lib\\site-packages\\sklearn\\utils\\optimize.py:210: ConvergenceWarning: newton-cg failed to converge. Increase the number of iterations.\n",
      "  warnings.warn(\n"
     ]
    },
    {
     "name": "stdout",
     "output_type": "stream",
     "text": [
      "[CV] END C=1000.0, max_iter=400, penalty=l2, solver=newton-cg; total time=   5.3s\n"
     ]
    },
    {
     "name": "stderr",
     "output_type": "stream",
     "text": [
      "D:\\SOFTWARES\\New folder (3)\\lib\\site-packages\\sklearn\\utils\\optimize.py:210: ConvergenceWarning: newton-cg failed to converge. Increase the number of iterations.\n",
      "  warnings.warn(\n"
     ]
    },
    {
     "name": "stdout",
     "output_type": "stream",
     "text": [
      "[CV] END C=1000.0, max_iter=400, penalty=l2, solver=newton-cg; total time=   6.2s\n"
     ]
    },
    {
     "name": "stderr",
     "output_type": "stream",
     "text": [
      "D:\\SOFTWARES\\New folder (3)\\lib\\site-packages\\sklearn\\utils\\optimize.py:210: ConvergenceWarning: newton-cg failed to converge. Increase the number of iterations.\n",
      "  warnings.warn(\n"
     ]
    },
    {
     "name": "stdout",
     "output_type": "stream",
     "text": [
      "[CV] END C=1000.0, max_iter=400, penalty=l2, solver=newton-cg; total time=   6.7s\n"
     ]
    },
    {
     "name": "stderr",
     "output_type": "stream",
     "text": [
      "D:\\SOFTWARES\\New folder (3)\\lib\\site-packages\\sklearn\\utils\\optimize.py:210: ConvergenceWarning: newton-cg failed to converge. Increase the number of iterations.\n",
      "  warnings.warn(\n"
     ]
    },
    {
     "name": "stdout",
     "output_type": "stream",
     "text": [
      "[CV] END C=1000.0, max_iter=400, penalty=l2, solver=newton-cg; total time=   9.7s\n"
     ]
    },
    {
     "name": "stderr",
     "output_type": "stream",
     "text": [
      "D:\\SOFTWARES\\New folder (3)\\lib\\site-packages\\sklearn\\utils\\optimize.py:210: ConvergenceWarning: newton-cg failed to converge. Increase the number of iterations.\n",
      "  warnings.warn(\n"
     ]
    },
    {
     "name": "stdout",
     "output_type": "stream",
     "text": [
      "[CV] END C=1000.0, max_iter=400, penalty=l2, solver=newton-cg; total time=   6.4s\n",
      "[CV] END C=1000.0, max_iter=400, penalty=l2, solver=liblinear; total time=   0.0s\n",
      "[CV] END C=1000.0, max_iter=400, penalty=l2, solver=liblinear; total time=   0.0s\n",
      "[CV] END C=1000.0, max_iter=400, penalty=l2, solver=liblinear; total time=   0.0s\n",
      "[CV] END C=1000.0, max_iter=400, penalty=l2, solver=liblinear; total time=   0.0s\n",
      "[CV] END C=1000.0, max_iter=400, penalty=l2, solver=liblinear; total time=   0.0s\n"
     ]
    },
    {
     "data": {
      "text/plain": [
       "GridSearchCV(cv=5, estimator=LogisticRegression(),\n",
       "             param_grid={'C': array([1.e-03, 1.e-02, 1.e-01, 1.e+00, 1.e+01, 1.e+02, 1.e+03]),\n",
       "                         'max_iter': [100, 200, 400], 'penalty': ['l2'],\n",
       "                         'solver': ['newton-cg', 'liblinear']},\n",
       "             scoring='accuracy', verbose=2)"
      ]
     },
     "execution_count": 42,
     "metadata": {},
     "output_type": "execute_result"
    }
   ],
   "source": [
    "logres_clf = GridSearchCV(log_reg, param_grid = parameters, scoring='accuracy', cv=5, refit=True, verbose=2)\n",
    "logres_clf.fit(train_X,train_Y)"
   ]
  },
  {
   "cell_type": "code",
   "execution_count": 61,
   "id": "29624772",
   "metadata": {},
   "outputs": [
    {
     "name": "stdout",
     "output_type": "stream",
     "text": [
      "Tuned Hyperparameters : {'C': 1.0, 'max_iter': 100, 'penalty': 'l2', 'solver': 'liblinear'}\n",
      "Accuracy : 0.808695652173913\n"
     ]
    }
   ],
   "source": [
    "print(\"Tuned Hyperparameters :\", logres_clf.best_params_)\n",
    "print(\"Accuracy :\", logres_clf.best_score_)"
   ]
  },
  {
   "cell_type": "code",
   "execution_count": 62,
   "id": "8293d5c2",
   "metadata": {},
   "outputs": [],
   "source": [
    "logres_pred = logres_clf.best_estimator_.predict(test_X)"
   ]
  },
  {
   "cell_type": "code",
   "execution_count": 63,
   "id": "4793b8ef",
   "metadata": {},
   "outputs": [
    {
     "data": {
      "text/plain": [
       "0.8051661756212167"
      ]
     },
     "execution_count": 63,
     "metadata": {},
     "output_type": "execute_result"
    }
   ],
   "source": [
    "f1_score(y_true=test_Y, y_pred=logres_pred,average='weighted')"
   ]
  },
  {
   "cell_type": "markdown",
   "id": "d17ae60c",
   "metadata": {},
   "source": [
    "### Support Vector Machine (SVM)"
   ]
  },
  {
   "cell_type": "code",
   "execution_count": 57,
   "id": "f6652b3a",
   "metadata": {},
   "outputs": [],
   "source": [
    "svc = SVC()\n",
    "parameters = {\n",
    "    'C': [0.1,1, 10, 100],\n",
    "    'gamma': [1,0.1,0.01,0.001],\n",
    "    'kernel': ['rbf', 'poly', 'sigmoid']\n",
    "}"
   ]
  },
  {
   "cell_type": "code",
   "execution_count": 58,
   "id": "2f04126b",
   "metadata": {},
   "outputs": [
    {
     "name": "stdout",
     "output_type": "stream",
     "text": [
      "Fitting 5 folds for each of 48 candidates, totalling 240 fits\n",
      "[CV] END .........................C=0.1, gamma=1, kernel=rbf; total time=   0.0s\n",
      "[CV] END .........................C=0.1, gamma=1, kernel=rbf; total time=   0.0s\n",
      "[CV] END .........................C=0.1, gamma=1, kernel=rbf; total time=   0.0s\n",
      "[CV] END .........................C=0.1, gamma=1, kernel=rbf; total time=   0.0s\n",
      "[CV] END .........................C=0.1, gamma=1, kernel=rbf; total time=   0.0s\n",
      "[CV] END ........................C=0.1, gamma=1, kernel=poly; total time= 1.9min\n",
      "[CV] END ........................C=0.1, gamma=1, kernel=poly; total time= 4.5min\n",
      "[CV] END ........................C=0.1, gamma=1, kernel=poly; total time= 1.2min\n",
      "[CV] END ........................C=0.1, gamma=1, kernel=poly; total time= 1.2min\n",
      "[CV] END ........................C=0.1, gamma=1, kernel=poly; total time= 1.3min\n",
      "[CV] END .....................C=0.1, gamma=1, kernel=sigmoid; total time=   0.0s\n",
      "[CV] END .....................C=0.1, gamma=1, kernel=sigmoid; total time=   0.0s\n",
      "[CV] END .....................C=0.1, gamma=1, kernel=sigmoid; total time=   0.0s\n",
      "[CV] END .....................C=0.1, gamma=1, kernel=sigmoid; total time=   0.0s\n",
      "[CV] END .....................C=0.1, gamma=1, kernel=sigmoid; total time=   0.0s\n",
      "[CV] END .......................C=0.1, gamma=0.1, kernel=rbf; total time=   0.0s\n",
      "[CV] END .......................C=0.1, gamma=0.1, kernel=rbf; total time=   0.0s\n",
      "[CV] END .......................C=0.1, gamma=0.1, kernel=rbf; total time=   0.0s\n",
      "[CV] END .......................C=0.1, gamma=0.1, kernel=rbf; total time=   0.0s\n",
      "[CV] END .......................C=0.1, gamma=0.1, kernel=rbf; total time=   0.0s\n",
      "[CV] END ......................C=0.1, gamma=0.1, kernel=poly; total time= 2.5min\n",
      "[CV] END ......................C=0.1, gamma=0.1, kernel=poly; total time= 2.5min\n",
      "[CV] END ......................C=0.1, gamma=0.1, kernel=poly; total time= 1.5min\n",
      "[CV] END ......................C=0.1, gamma=0.1, kernel=poly; total time=  56.2s\n",
      "[CV] END ......................C=0.1, gamma=0.1, kernel=poly; total time= 1.3min\n",
      "[CV] END ...................C=0.1, gamma=0.1, kernel=sigmoid; total time=   0.0s\n",
      "[CV] END ...................C=0.1, gamma=0.1, kernel=sigmoid; total time=   0.0s\n",
      "[CV] END ...................C=0.1, gamma=0.1, kernel=sigmoid; total time=   0.0s\n",
      "[CV] END ...................C=0.1, gamma=0.1, kernel=sigmoid; total time=   0.0s\n",
      "[CV] END ...................C=0.1, gamma=0.1, kernel=sigmoid; total time=   0.0s\n",
      "[CV] END ......................C=0.1, gamma=0.01, kernel=rbf; total time=   0.0s\n",
      "[CV] END ......................C=0.1, gamma=0.01, kernel=rbf; total time=   0.0s\n",
      "[CV] END ......................C=0.1, gamma=0.01, kernel=rbf; total time=   0.0s\n",
      "[CV] END ......................C=0.1, gamma=0.01, kernel=rbf; total time=   0.0s\n",
      "[CV] END ......................C=0.1, gamma=0.01, kernel=rbf; total time=   0.0s\n",
      "[CV] END .....................C=0.1, gamma=0.01, kernel=poly; total time= 2.1min\n",
      "[CV] END .....................C=0.1, gamma=0.01, kernel=poly; total time= 1.2min\n",
      "[CV] END .....................C=0.1, gamma=0.01, kernel=poly; total time=  26.8s\n",
      "[CV] END .....................C=0.1, gamma=0.01, kernel=poly; total time= 1.3min\n",
      "[CV] END .....................C=0.1, gamma=0.01, kernel=poly; total time=  44.5s\n",
      "[CV] END ..................C=0.1, gamma=0.01, kernel=sigmoid; total time=   0.0s\n",
      "[CV] END ..................C=0.1, gamma=0.01, kernel=sigmoid; total time=   0.0s\n",
      "[CV] END ..................C=0.1, gamma=0.01, kernel=sigmoid; total time=   0.0s\n",
      "[CV] END ..................C=0.1, gamma=0.01, kernel=sigmoid; total time=   0.0s\n",
      "[CV] END ..................C=0.1, gamma=0.01, kernel=sigmoid; total time=   0.0s\n",
      "[CV] END .....................C=0.1, gamma=0.001, kernel=rbf; total time=   0.0s\n",
      "[CV] END .....................C=0.1, gamma=0.001, kernel=rbf; total time=   0.0s\n",
      "[CV] END .....................C=0.1, gamma=0.001, kernel=rbf; total time=   0.0s\n",
      "[CV] END .....................C=0.1, gamma=0.001, kernel=rbf; total time=   0.0s\n",
      "[CV] END .....................C=0.1, gamma=0.001, kernel=rbf; total time=   0.0s\n",
      "[CV] END ....................C=0.1, gamma=0.001, kernel=poly; total time= 1.9min\n",
      "[CV] END ....................C=0.1, gamma=0.001, kernel=poly; total time= 1.7min\n",
      "[CV] END ....................C=0.1, gamma=0.001, kernel=poly; total time=  26.0s\n",
      "[CV] END ....................C=0.1, gamma=0.001, kernel=poly; total time=  58.0s\n",
      "[CV] END ....................C=0.1, gamma=0.001, kernel=poly; total time=  34.2s\n",
      "[CV] END .................C=0.1, gamma=0.001, kernel=sigmoid; total time=   0.0s\n",
      "[CV] END .................C=0.1, gamma=0.001, kernel=sigmoid; total time=   0.0s\n",
      "[CV] END .................C=0.1, gamma=0.001, kernel=sigmoid; total time=   0.0s\n",
      "[CV] END .................C=0.1, gamma=0.001, kernel=sigmoid; total time=   0.0s\n",
      "[CV] END .................C=0.1, gamma=0.001, kernel=sigmoid; total time=   0.0s\n",
      "[CV] END ...........................C=1, gamma=1, kernel=rbf; total time=   0.0s\n",
      "[CV] END ...........................C=1, gamma=1, kernel=rbf; total time=   0.0s\n",
      "[CV] END ...........................C=1, gamma=1, kernel=rbf; total time=   0.0s\n",
      "[CV] END ...........................C=1, gamma=1, kernel=rbf; total time=   0.0s\n",
      "[CV] END ...........................C=1, gamma=1, kernel=rbf; total time=   0.0s\n",
      "[CV] END ..........................C=1, gamma=1, kernel=poly; total time= 1.6min\n",
      "[CV] END ..........................C=1, gamma=1, kernel=poly; total time= 3.9min\n",
      "[CV] END ..........................C=1, gamma=1, kernel=poly; total time=  52.9s\n",
      "[CV] END ..........................C=1, gamma=1, kernel=poly; total time=  50.3s\n",
      "[CV] END ..........................C=1, gamma=1, kernel=poly; total time=  51.2s\n",
      "[CV] END .......................C=1, gamma=1, kernel=sigmoid; total time=   0.0s\n",
      "[CV] END .......................C=1, gamma=1, kernel=sigmoid; total time=   0.0s\n",
      "[CV] END .......................C=1, gamma=1, kernel=sigmoid; total time=   0.0s\n",
      "[CV] END .......................C=1, gamma=1, kernel=sigmoid; total time=   0.0s\n",
      "[CV] END .......................C=1, gamma=1, kernel=sigmoid; total time=   0.0s\n",
      "[CV] END .........................C=1, gamma=0.1, kernel=rbf; total time=   0.0s\n",
      "[CV] END .........................C=1, gamma=0.1, kernel=rbf; total time=   0.0s\n",
      "[CV] END .........................C=1, gamma=0.1, kernel=rbf; total time=   0.0s\n",
      "[CV] END .........................C=1, gamma=0.1, kernel=rbf; total time=   0.0s\n",
      "[CV] END .........................C=1, gamma=0.1, kernel=rbf; total time=   0.0s\n",
      "[CV] END ........................C=1, gamma=0.1, kernel=poly; total time= 6.3min\n",
      "[CV] END ........................C=1, gamma=0.1, kernel=poly; total time= 1.4min\n",
      "[CV] END ........................C=1, gamma=0.1, kernel=poly; total time=  47.6s\n",
      "[CV] END ........................C=1, gamma=0.1, kernel=poly; total time=  27.1s\n",
      "[CV] END ........................C=1, gamma=0.1, kernel=poly; total time=  45.1s\n",
      "[CV] END .....................C=1, gamma=0.1, kernel=sigmoid; total time=   0.0s\n",
      "[CV] END .....................C=1, gamma=0.1, kernel=sigmoid; total time=   0.0s\n",
      "[CV] END .....................C=1, gamma=0.1, kernel=sigmoid; total time=   0.0s\n",
      "[CV] END .....................C=1, gamma=0.1, kernel=sigmoid; total time=   0.0s\n",
      "[CV] END .....................C=1, gamma=0.1, kernel=sigmoid; total time=   0.0s\n",
      "[CV] END ........................C=1, gamma=0.01, kernel=rbf; total time=   0.0s\n",
      "[CV] END ........................C=1, gamma=0.01, kernel=rbf; total time=   0.0s\n",
      "[CV] END ........................C=1, gamma=0.01, kernel=rbf; total time=   0.0s\n",
      "[CV] END ........................C=1, gamma=0.01, kernel=rbf; total time=   0.0s\n",
      "[CV] END ........................C=1, gamma=0.01, kernel=rbf; total time=   0.0s\n",
      "[CV] END .......................C=1, gamma=0.01, kernel=poly; total time= 1.2min\n",
      "[CV] END .......................C=1, gamma=0.01, kernel=poly; total time=  54.6s\n",
      "[CV] END .......................C=1, gamma=0.01, kernel=poly; total time=  19.4s\n",
      "[CV] END .......................C=1, gamma=0.01, kernel=poly; total time=  51.4s\n",
      "[CV] END .......................C=1, gamma=0.01, kernel=poly; total time=  29.7s\n",
      "[CV] END ....................C=1, gamma=0.01, kernel=sigmoid; total time=   0.0s\n",
      "[CV] END ....................C=1, gamma=0.01, kernel=sigmoid; total time=   0.0s\n",
      "[CV] END ....................C=1, gamma=0.01, kernel=sigmoid; total time=   0.0s\n",
      "[CV] END ....................C=1, gamma=0.01, kernel=sigmoid; total time=   0.0s\n",
      "[CV] END ....................C=1, gamma=0.01, kernel=sigmoid; total time=   0.0s\n",
      "[CV] END .......................C=1, gamma=0.001, kernel=rbf; total time=   0.0s\n",
      "[CV] END .......................C=1, gamma=0.001, kernel=rbf; total time=   0.0s\n",
      "[CV] END .......................C=1, gamma=0.001, kernel=rbf; total time=   0.0s\n",
      "[CV] END .......................C=1, gamma=0.001, kernel=rbf; total time=   0.0s\n",
      "[CV] END .......................C=1, gamma=0.001, kernel=rbf; total time=   0.0s\n",
      "[CV] END ......................C=1, gamma=0.001, kernel=poly; total time= 1.4min\n",
      "[CV] END ......................C=1, gamma=0.001, kernel=poly; total time= 1.2min\n",
      "[CV] END ......................C=1, gamma=0.001, kernel=poly; total time=  19.4s\n",
      "[CV] END ......................C=1, gamma=0.001, kernel=poly; total time=  40.1s\n",
      "[CV] END ......................C=1, gamma=0.001, kernel=poly; total time=  21.7s\n",
      "[CV] END ...................C=1, gamma=0.001, kernel=sigmoid; total time=   0.0s\n",
      "[CV] END ...................C=1, gamma=0.001, kernel=sigmoid; total time=   0.0s\n",
      "[CV] END ...................C=1, gamma=0.001, kernel=sigmoid; total time=   0.0s\n",
      "[CV] END ...................C=1, gamma=0.001, kernel=sigmoid; total time=   0.0s\n",
      "[CV] END ...................C=1, gamma=0.001, kernel=sigmoid; total time=   0.0s\n",
      "[CV] END ..........................C=10, gamma=1, kernel=rbf; total time=   0.0s\n",
      "[CV] END ..........................C=10, gamma=1, kernel=rbf; total time=   0.0s\n",
      "[CV] END ..........................C=10, gamma=1, kernel=rbf; total time=   0.0s\n",
      "[CV] END ..........................C=10, gamma=1, kernel=rbf; total time=   0.0s\n",
      "[CV] END ..........................C=10, gamma=1, kernel=rbf; total time=   0.0s\n",
      "[CV] END .........................C=10, gamma=1, kernel=poly; total time= 1.2min\n",
      "[CV] END .........................C=10, gamma=1, kernel=poly; total time= 2.8min\n",
      "[CV] END .........................C=10, gamma=1, kernel=poly; total time=  56.7s\n",
      "[CV] END .........................C=10, gamma=1, kernel=poly; total time=  59.2s\n",
      "[CV] END .........................C=10, gamma=1, kernel=poly; total time=  51.3s\n",
      "[CV] END ......................C=10, gamma=1, kernel=sigmoid; total time=   0.0s\n",
      "[CV] END ......................C=10, gamma=1, kernel=sigmoid; total time=   0.0s\n",
      "[CV] END ......................C=10, gamma=1, kernel=sigmoid; total time=   0.0s\n",
      "[CV] END ......................C=10, gamma=1, kernel=sigmoid; total time=   0.0s\n",
      "[CV] END ......................C=10, gamma=1, kernel=sigmoid; total time=   0.0s\n",
      "[CV] END ........................C=10, gamma=0.1, kernel=rbf; total time=   0.0s\n",
      "[CV] END ........................C=10, gamma=0.1, kernel=rbf; total time=   0.0s\n",
      "[CV] END ........................C=10, gamma=0.1, kernel=rbf; total time=   0.0s\n",
      "[CV] END ........................C=10, gamma=0.1, kernel=rbf; total time=   0.0s\n",
      "[CV] END ........................C=10, gamma=0.1, kernel=rbf; total time=   0.0s\n",
      "[CV] END .......................C=10, gamma=0.1, kernel=poly; total time= 1.7min\n",
      "[CV] END .......................C=10, gamma=0.1, kernel=poly; total time= 1.6min\n",
      "[CV] END .......................C=10, gamma=0.1, kernel=poly; total time= 1.1min\n",
      "[CV] END .......................C=10, gamma=0.1, kernel=poly; total time=  33.3s\n",
      "[CV] END .......................C=10, gamma=0.1, kernel=poly; total time=  55.4s\n",
      "[CV] END ....................C=10, gamma=0.1, kernel=sigmoid; total time=   0.0s\n",
      "[CV] END ....................C=10, gamma=0.1, kernel=sigmoid; total time=   0.0s\n",
      "[CV] END ....................C=10, gamma=0.1, kernel=sigmoid; total time=   0.0s\n",
      "[CV] END ....................C=10, gamma=0.1, kernel=sigmoid; total time=   0.0s\n",
      "[CV] END ....................C=10, gamma=0.1, kernel=sigmoid; total time=   0.0s\n",
      "[CV] END .......................C=10, gamma=0.01, kernel=rbf; total time=   0.0s\n",
      "[CV] END .......................C=10, gamma=0.01, kernel=rbf; total time=   0.0s\n",
      "[CV] END .......................C=10, gamma=0.01, kernel=rbf; total time=   0.0s\n",
      "[CV] END .......................C=10, gamma=0.01, kernel=rbf; total time=   0.0s\n",
      "[CV] END .......................C=10, gamma=0.01, kernel=rbf; total time=   0.0s\n",
      "[CV] END ......................C=10, gamma=0.01, kernel=poly; total time= 1.5min\n",
      "[CV] END ......................C=10, gamma=0.01, kernel=poly; total time= 1.3min\n",
      "[CV] END ......................C=10, gamma=0.01, kernel=poly; total time=  24.8s\n",
      "[CV] END ......................C=10, gamma=0.01, kernel=poly; total time= 1.1min\n",
      "[CV] END ......................C=10, gamma=0.01, kernel=poly; total time=  36.1s\n",
      "[CV] END ...................C=10, gamma=0.01, kernel=sigmoid; total time=   0.0s\n",
      "[CV] END ...................C=10, gamma=0.01, kernel=sigmoid; total time=   0.0s\n",
      "[CV] END ...................C=10, gamma=0.01, kernel=sigmoid; total time=   0.0s\n",
      "[CV] END ...................C=10, gamma=0.01, kernel=sigmoid; total time=   0.0s\n",
      "[CV] END ...................C=10, gamma=0.01, kernel=sigmoid; total time=   0.0s\n",
      "[CV] END ......................C=10, gamma=0.001, kernel=rbf; total time=   0.0s\n",
      "[CV] END ......................C=10, gamma=0.001, kernel=rbf; total time=   0.0s\n",
      "[CV] END ......................C=10, gamma=0.001, kernel=rbf; total time=   0.0s\n",
      "[CV] END ......................C=10, gamma=0.001, kernel=rbf; total time=   0.0s\n",
      "[CV] END ......................C=10, gamma=0.001, kernel=rbf; total time=   0.0s\n",
      "[CV] END .....................C=10, gamma=0.001, kernel=poly; total time= 1.8min\n",
      "[CV] END .....................C=10, gamma=0.001, kernel=poly; total time= 1.5min\n",
      "[CV] END .....................C=10, gamma=0.001, kernel=poly; total time=  23.1s\n",
      "[CV] END .....................C=10, gamma=0.001, kernel=poly; total time=  47.4s\n",
      "[CV] END .....................C=10, gamma=0.001, kernel=poly; total time=  27.1s\n",
      "[CV] END ..................C=10, gamma=0.001, kernel=sigmoid; total time=   0.0s\n",
      "[CV] END ..................C=10, gamma=0.001, kernel=sigmoid; total time=   0.0s\n",
      "[CV] END ..................C=10, gamma=0.001, kernel=sigmoid; total time=   0.0s\n",
      "[CV] END ..................C=10, gamma=0.001, kernel=sigmoid; total time=   0.0s\n",
      "[CV] END ..................C=10, gamma=0.001, kernel=sigmoid; total time=   0.0s\n",
      "[CV] END .........................C=100, gamma=1, kernel=rbf; total time=   0.0s\n",
      "[CV] END .........................C=100, gamma=1, kernel=rbf; total time=   0.0s\n",
      "[CV] END .........................C=100, gamma=1, kernel=rbf; total time=   0.0s\n",
      "[CV] END .........................C=100, gamma=1, kernel=rbf; total time=   0.0s\n",
      "[CV] END .........................C=100, gamma=1, kernel=rbf; total time=   0.0s\n",
      "[CV] END ........................C=100, gamma=1, kernel=poly; total time= 1.3min\n",
      "[CV] END ........................C=100, gamma=1, kernel=poly; total time= 3.0min\n",
      "[CV] END ........................C=100, gamma=1, kernel=poly; total time=  43.7s\n",
      "[CV] END ........................C=100, gamma=1, kernel=poly; total time=  38.9s\n",
      "[CV] END ........................C=100, gamma=1, kernel=poly; total time=  38.0s\n",
      "[CV] END .....................C=100, gamma=1, kernel=sigmoid; total time=   0.0s\n",
      "[CV] END .....................C=100, gamma=1, kernel=sigmoid; total time=   0.0s\n",
      "[CV] END .....................C=100, gamma=1, kernel=sigmoid; total time=   0.0s\n",
      "[CV] END .....................C=100, gamma=1, kernel=sigmoid; total time=   0.0s\n",
      "[CV] END .....................C=100, gamma=1, kernel=sigmoid; total time=   0.0s\n",
      "[CV] END .......................C=100, gamma=0.1, kernel=rbf; total time=   0.0s\n",
      "[CV] END .......................C=100, gamma=0.1, kernel=rbf; total time=   0.0s\n",
      "[CV] END .......................C=100, gamma=0.1, kernel=rbf; total time=   0.0s\n",
      "[CV] END .......................C=100, gamma=0.1, kernel=rbf; total time=   0.0s\n",
      "[CV] END .......................C=100, gamma=0.1, kernel=rbf; total time=   0.0s\n",
      "[CV] END ......................C=100, gamma=0.1, kernel=poly; total time= 1.2min\n",
      "[CV] END ......................C=100, gamma=0.1, kernel=poly; total time= 1.3min\n",
      "[CV] END ......................C=100, gamma=0.1, kernel=poly; total time=  47.9s\n",
      "[CV] END ......................C=100, gamma=0.1, kernel=poly; total time=  32.8s\n",
      "[CV] END ......................C=100, gamma=0.1, kernel=poly; total time=  52.7s\n",
      "[CV] END ...................C=100, gamma=0.1, kernel=sigmoid; total time=   0.0s\n",
      "[CV] END ...................C=100, gamma=0.1, kernel=sigmoid; total time=   0.0s\n",
      "[CV] END ...................C=100, gamma=0.1, kernel=sigmoid; total time=   0.0s\n",
      "[CV] END ...................C=100, gamma=0.1, kernel=sigmoid; total time=   0.0s\n",
      "[CV] END ...................C=100, gamma=0.1, kernel=sigmoid; total time=   0.0s\n",
      "[CV] END ......................C=100, gamma=0.01, kernel=rbf; total time=   0.0s\n",
      "[CV] END ......................C=100, gamma=0.01, kernel=rbf; total time=   0.0s\n",
      "[CV] END ......................C=100, gamma=0.01, kernel=rbf; total time=   0.0s\n",
      "[CV] END ......................C=100, gamma=0.01, kernel=rbf; total time=   0.0s\n",
      "[CV] END ......................C=100, gamma=0.01, kernel=rbf; total time=   0.0s\n",
      "[CV] END .....................C=100, gamma=0.01, kernel=poly; total time= 1.3min\n",
      "[CV] END .....................C=100, gamma=0.01, kernel=poly; total time=  58.0s\n",
      "[CV] END .....................C=100, gamma=0.01, kernel=poly; total time=  22.5s\n",
      "[CV] END .....................C=100, gamma=0.01, kernel=poly; total time=  60.0s\n",
      "[CV] END .....................C=100, gamma=0.01, kernel=poly; total time=  34.0s\n",
      "[CV] END ..................C=100, gamma=0.01, kernel=sigmoid; total time=   0.0s\n",
      "[CV] END ..................C=100, gamma=0.01, kernel=sigmoid; total time=   0.0s\n",
      "[CV] END ..................C=100, gamma=0.01, kernel=sigmoid; total time=   0.0s\n",
      "[CV] END ..................C=100, gamma=0.01, kernel=sigmoid; total time=   0.0s\n",
      "[CV] END ..................C=100, gamma=0.01, kernel=sigmoid; total time=   0.0s\n",
      "[CV] END .....................C=100, gamma=0.001, kernel=rbf; total time=   0.0s\n",
      "[CV] END .....................C=100, gamma=0.001, kernel=rbf; total time=   0.0s\n",
      "[CV] END .....................C=100, gamma=0.001, kernel=rbf; total time=   0.0s\n",
      "[CV] END .....................C=100, gamma=0.001, kernel=rbf; total time=   0.0s\n",
      "[CV] END .....................C=100, gamma=0.001, kernel=rbf; total time=   0.0s\n",
      "[CV] END ....................C=100, gamma=0.001, kernel=poly; total time= 1.5min\n",
      "[CV] END ....................C=100, gamma=0.001, kernel=poly; total time= 1.2min\n",
      "[CV] END ....................C=100, gamma=0.001, kernel=poly; total time=  18.4s\n",
      "[CV] END ....................C=100, gamma=0.001, kernel=poly; total time=  38.7s\n",
      "[CV] END ....................C=100, gamma=0.001, kernel=poly; total time=  21.5s\n",
      "[CV] END .................C=100, gamma=0.001, kernel=sigmoid; total time=   0.0s\n",
      "[CV] END .................C=100, gamma=0.001, kernel=sigmoid; total time=   0.0s\n",
      "[CV] END .................C=100, gamma=0.001, kernel=sigmoid; total time=   0.0s\n",
      "[CV] END .................C=100, gamma=0.001, kernel=sigmoid; total time=   0.0s\n",
      "[CV] END .................C=100, gamma=0.001, kernel=sigmoid; total time=   0.0s\n"
     ]
    },
    {
     "data": {
      "text/plain": [
       "GridSearchCV(cv=5, estimator=SVC(),\n",
       "             param_grid={'C': [0.1, 1, 10, 100], 'gamma': [1, 0.1, 0.01, 0.001],\n",
       "                         'kernel': ['rbf', 'poly', 'sigmoid']},\n",
       "             scoring='accuracy', verbose=2)"
      ]
     },
     "execution_count": 58,
     "metadata": {},
     "output_type": "execute_result"
    }
   ],
   "source": [
    "svc_clf = GridSearchCV(svc, param_grid = parameters, scoring='accuracy', cv=5, refit=True,verbose=2)\n",
    "svc_clf.fit(train_X,train_Y)"
   ]
  },
  {
   "cell_type": "code",
   "execution_count": 65,
   "id": "7a972fdc",
   "metadata": {},
   "outputs": [
    {
     "name": "stdout",
     "output_type": "stream",
     "text": [
      "Tuned Hyperparameters : {'C': 0.1, 'gamma': 0.1, 'kernel': 'poly'}\n",
      "Accuracy : 0.7913043478260869\n"
     ]
    }
   ],
   "source": [
    "print(\"Tuned Hyperparameters :\", svc_clf.best_params_)\n",
    "print(\"Accuracy :\", svc_clf.best_score_)"
   ]
  },
  {
   "cell_type": "code",
   "execution_count": 66,
   "id": "819c0981",
   "metadata": {},
   "outputs": [],
   "source": [
    "svc_pred = svc_clf.best_estimator_.predict(test_X)"
   ]
  },
  {
   "cell_type": "code",
   "execution_count": 67,
   "id": "4e92ca5a",
   "metadata": {},
   "outputs": [
    {
     "data": {
      "text/plain": [
       "0.8096273250461206"
      ]
     },
     "execution_count": 67,
     "metadata": {},
     "output_type": "execute_result"
    }
   ],
   "source": [
    "f1_score(y_true=test_Y, y_pred=svc_pred ,average='weighted')"
   ]
  },
  {
   "cell_type": "markdown",
   "id": "5e275acd",
   "metadata": {},
   "source": [
    "## RandomForestClassifier"
   ]
  },
  {
   "cell_type": "code",
   "execution_count": 68,
   "id": "e0728285",
   "metadata": {},
   "outputs": [],
   "source": [
    "rf =  RandomForestClassifier()\n",
    "parameters = {\n",
    "    'n_estimators': [100, 500, 1000, 2000],\n",
    "    'max_depth': [10, 50, 100],\n",
    "    'min_samples_split': [2, 5, 10],\n",
    "    'min_samples_leaf': [1, 2, 4]\n",
    "}"
   ]
  },
  {
   "cell_type": "code",
   "execution_count": 69,
   "id": "00017d89",
   "metadata": {},
   "outputs": [
    {
     "name": "stdout",
     "output_type": "stream",
     "text": [
      "Fitting 5 folds for each of 108 candidates, totalling 540 fits\n",
      "[CV] END max_depth=10, min_samples_leaf=1, min_samples_split=2, n_estimators=100; total time=   0.1s\n",
      "[CV] END max_depth=10, min_samples_leaf=1, min_samples_split=2, n_estimators=100; total time=   0.0s\n",
      "[CV] END max_depth=10, min_samples_leaf=1, min_samples_split=2, n_estimators=100; total time=   0.1s\n",
      "[CV] END max_depth=10, min_samples_leaf=1, min_samples_split=2, n_estimators=100; total time=   0.1s\n",
      "[CV] END max_depth=10, min_samples_leaf=1, min_samples_split=2, n_estimators=100; total time=   0.0s\n",
      "[CV] END max_depth=10, min_samples_leaf=1, min_samples_split=2, n_estimators=500; total time=   0.6s\n",
      "[CV] END max_depth=10, min_samples_leaf=1, min_samples_split=2, n_estimators=500; total time=   0.6s\n",
      "[CV] END max_depth=10, min_samples_leaf=1, min_samples_split=2, n_estimators=500; total time=   0.6s\n",
      "[CV] END max_depth=10, min_samples_leaf=1, min_samples_split=2, n_estimators=500; total time=   0.6s\n",
      "[CV] END max_depth=10, min_samples_leaf=1, min_samples_split=2, n_estimators=500; total time=   0.6s\n",
      "[CV] END max_depth=10, min_samples_leaf=1, min_samples_split=2, n_estimators=1000; total time=   1.2s\n",
      "[CV] END max_depth=10, min_samples_leaf=1, min_samples_split=2, n_estimators=1000; total time=   1.2s\n",
      "[CV] END max_depth=10, min_samples_leaf=1, min_samples_split=2, n_estimators=1000; total time=   1.2s\n",
      "[CV] END max_depth=10, min_samples_leaf=1, min_samples_split=2, n_estimators=1000; total time=   1.9s\n",
      "[CV] END max_depth=10, min_samples_leaf=1, min_samples_split=2, n_estimators=1000; total time=   1.4s\n",
      "[CV] END max_depth=10, min_samples_leaf=1, min_samples_split=2, n_estimators=2000; total time=   2.5s\n",
      "[CV] END max_depth=10, min_samples_leaf=1, min_samples_split=2, n_estimators=2000; total time=   2.5s\n",
      "[CV] END max_depth=10, min_samples_leaf=1, min_samples_split=2, n_estimators=2000; total time=   2.5s\n",
      "[CV] END max_depth=10, min_samples_leaf=1, min_samples_split=2, n_estimators=2000; total time=   2.5s\n",
      "[CV] END max_depth=10, min_samples_leaf=1, min_samples_split=2, n_estimators=2000; total time=   2.6s\n",
      "[CV] END max_depth=10, min_samples_leaf=1, min_samples_split=5, n_estimators=100; total time=   0.0s\n",
      "[CV] END max_depth=10, min_samples_leaf=1, min_samples_split=5, n_estimators=100; total time=   0.0s\n",
      "[CV] END max_depth=10, min_samples_leaf=1, min_samples_split=5, n_estimators=100; total time=   0.0s\n",
      "[CV] END max_depth=10, min_samples_leaf=1, min_samples_split=5, n_estimators=100; total time=   0.0s\n",
      "[CV] END max_depth=10, min_samples_leaf=1, min_samples_split=5, n_estimators=100; total time=   0.0s\n",
      "[CV] END max_depth=10, min_samples_leaf=1, min_samples_split=5, n_estimators=500; total time=   0.6s\n",
      "[CV] END max_depth=10, min_samples_leaf=1, min_samples_split=5, n_estimators=500; total time=   0.5s\n",
      "[CV] END max_depth=10, min_samples_leaf=1, min_samples_split=5, n_estimators=500; total time=   0.6s\n",
      "[CV] END max_depth=10, min_samples_leaf=1, min_samples_split=5, n_estimators=500; total time=   0.6s\n",
      "[CV] END max_depth=10, min_samples_leaf=1, min_samples_split=5, n_estimators=500; total time=   0.5s\n",
      "[CV] END max_depth=10, min_samples_leaf=1, min_samples_split=5, n_estimators=1000; total time=   1.2s\n",
      "[CV] END max_depth=10, min_samples_leaf=1, min_samples_split=5, n_estimators=1000; total time=   1.3s\n",
      "[CV] END max_depth=10, min_samples_leaf=1, min_samples_split=5, n_estimators=1000; total time=   1.2s\n",
      "[CV] END max_depth=10, min_samples_leaf=1, min_samples_split=5, n_estimators=1000; total time=   1.2s\n",
      "[CV] END max_depth=10, min_samples_leaf=1, min_samples_split=5, n_estimators=1000; total time=   1.2s\n",
      "[CV] END max_depth=10, min_samples_leaf=1, min_samples_split=5, n_estimators=2000; total time=   2.6s\n",
      "[CV] END max_depth=10, min_samples_leaf=1, min_samples_split=5, n_estimators=2000; total time=   2.9s\n",
      "[CV] END max_depth=10, min_samples_leaf=1, min_samples_split=5, n_estimators=2000; total time=   2.6s\n",
      "[CV] END max_depth=10, min_samples_leaf=1, min_samples_split=5, n_estimators=2000; total time=   2.5s\n",
      "[CV] END max_depth=10, min_samples_leaf=1, min_samples_split=5, n_estimators=2000; total time=   2.5s\n",
      "[CV] END max_depth=10, min_samples_leaf=1, min_samples_split=10, n_estimators=100; total time=   0.0s\n",
      "[CV] END max_depth=10, min_samples_leaf=1, min_samples_split=10, n_estimators=100; total time=   0.0s\n",
      "[CV] END max_depth=10, min_samples_leaf=1, min_samples_split=10, n_estimators=100; total time=   0.0s\n",
      "[CV] END max_depth=10, min_samples_leaf=1, min_samples_split=10, n_estimators=100; total time=   0.0s\n",
      "[CV] END max_depth=10, min_samples_leaf=1, min_samples_split=10, n_estimators=100; total time=   0.0s\n",
      "[CV] END max_depth=10, min_samples_leaf=1, min_samples_split=10, n_estimators=500; total time=   0.6s\n",
      "[CV] END max_depth=10, min_samples_leaf=1, min_samples_split=10, n_estimators=500; total time=   0.5s\n",
      "[CV] END max_depth=10, min_samples_leaf=1, min_samples_split=10, n_estimators=500; total time=   0.5s\n",
      "[CV] END max_depth=10, min_samples_leaf=1, min_samples_split=10, n_estimators=500; total time=   0.6s\n",
      "[CV] END max_depth=10, min_samples_leaf=1, min_samples_split=10, n_estimators=500; total time=   0.5s\n",
      "[CV] END max_depth=10, min_samples_leaf=1, min_samples_split=10, n_estimators=1000; total time=   1.2s\n",
      "[CV] END max_depth=10, min_samples_leaf=1, min_samples_split=10, n_estimators=1000; total time=   1.1s\n",
      "[CV] END max_depth=10, min_samples_leaf=1, min_samples_split=10, n_estimators=1000; total time=   1.1s\n",
      "[CV] END max_depth=10, min_samples_leaf=1, min_samples_split=10, n_estimators=1000; total time=   1.2s\n",
      "[CV] END max_depth=10, min_samples_leaf=1, min_samples_split=10, n_estimators=1000; total time=   1.2s\n",
      "[CV] END max_depth=10, min_samples_leaf=1, min_samples_split=10, n_estimators=2000; total time=   2.5s\n",
      "[CV] END max_depth=10, min_samples_leaf=1, min_samples_split=10, n_estimators=2000; total time=   2.5s\n",
      "[CV] END max_depth=10, min_samples_leaf=1, min_samples_split=10, n_estimators=2000; total time=   2.5s\n",
      "[CV] END max_depth=10, min_samples_leaf=1, min_samples_split=10, n_estimators=2000; total time=   2.5s\n",
      "[CV] END max_depth=10, min_samples_leaf=1, min_samples_split=10, n_estimators=2000; total time=   2.4s\n",
      "[CV] END max_depth=10, min_samples_leaf=2, min_samples_split=2, n_estimators=100; total time=   0.0s\n",
      "[CV] END max_depth=10, min_samples_leaf=2, min_samples_split=2, n_estimators=100; total time=   0.0s\n",
      "[CV] END max_depth=10, min_samples_leaf=2, min_samples_split=2, n_estimators=100; total time=   0.0s\n",
      "[CV] END max_depth=10, min_samples_leaf=2, min_samples_split=2, n_estimators=100; total time=   0.0s\n",
      "[CV] END max_depth=10, min_samples_leaf=2, min_samples_split=2, n_estimators=100; total time=   0.0s\n",
      "[CV] END max_depth=10, min_samples_leaf=2, min_samples_split=2, n_estimators=500; total time=   0.7s\n",
      "[CV] END max_depth=10, min_samples_leaf=2, min_samples_split=2, n_estimators=500; total time=   0.6s\n",
      "[CV] END max_depth=10, min_samples_leaf=2, min_samples_split=2, n_estimators=500; total time=   0.6s\n",
      "[CV] END max_depth=10, min_samples_leaf=2, min_samples_split=2, n_estimators=500; total time=   0.5s\n",
      "[CV] END max_depth=10, min_samples_leaf=2, min_samples_split=2, n_estimators=500; total time=   0.5s\n",
      "[CV] END max_depth=10, min_samples_leaf=2, min_samples_split=2, n_estimators=1000; total time=   1.2s\n",
      "[CV] END max_depth=10, min_samples_leaf=2, min_samples_split=2, n_estimators=1000; total time=   1.2s\n",
      "[CV] END max_depth=10, min_samples_leaf=2, min_samples_split=2, n_estimators=1000; total time=   1.2s\n",
      "[CV] END max_depth=10, min_samples_leaf=2, min_samples_split=2, n_estimators=1000; total time=   1.2s\n",
      "[CV] END max_depth=10, min_samples_leaf=2, min_samples_split=2, n_estimators=1000; total time=   1.1s\n",
      "[CV] END max_depth=10, min_samples_leaf=2, min_samples_split=2, n_estimators=2000; total time=   2.5s\n",
      "[CV] END max_depth=10, min_samples_leaf=2, min_samples_split=2, n_estimators=2000; total time=   2.4s\n",
      "[CV] END max_depth=10, min_samples_leaf=2, min_samples_split=2, n_estimators=2000; total time=   2.5s\n",
      "[CV] END max_depth=10, min_samples_leaf=2, min_samples_split=2, n_estimators=2000; total time=   2.6s\n",
      "[CV] END max_depth=10, min_samples_leaf=2, min_samples_split=2, n_estimators=2000; total time=   2.5s\n",
      "[CV] END max_depth=10, min_samples_leaf=2, min_samples_split=5, n_estimators=100; total time=   0.0s\n",
      "[CV] END max_depth=10, min_samples_leaf=2, min_samples_split=5, n_estimators=100; total time=   0.0s\n",
      "[CV] END max_depth=10, min_samples_leaf=2, min_samples_split=5, n_estimators=100; total time=   0.0s\n",
      "[CV] END max_depth=10, min_samples_leaf=2, min_samples_split=5, n_estimators=100; total time=   0.0s\n",
      "[CV] END max_depth=10, min_samples_leaf=2, min_samples_split=5, n_estimators=100; total time=   0.0s\n",
      "[CV] END max_depth=10, min_samples_leaf=2, min_samples_split=5, n_estimators=500; total time=   0.6s\n",
      "[CV] END max_depth=10, min_samples_leaf=2, min_samples_split=5, n_estimators=500; total time=   0.6s\n",
      "[CV] END max_depth=10, min_samples_leaf=2, min_samples_split=5, n_estimators=500; total time=   0.6s\n",
      "[CV] END max_depth=10, min_samples_leaf=2, min_samples_split=5, n_estimators=500; total time=   0.6s\n",
      "[CV] END max_depth=10, min_samples_leaf=2, min_samples_split=5, n_estimators=500; total time=   0.6s\n",
      "[CV] END max_depth=10, min_samples_leaf=2, min_samples_split=5, n_estimators=1000; total time=   1.2s\n",
      "[CV] END max_depth=10, min_samples_leaf=2, min_samples_split=5, n_estimators=1000; total time=   1.2s\n",
      "[CV] END max_depth=10, min_samples_leaf=2, min_samples_split=5, n_estimators=1000; total time=   1.2s\n",
      "[CV] END max_depth=10, min_samples_leaf=2, min_samples_split=5, n_estimators=1000; total time=   1.2s\n",
      "[CV] END max_depth=10, min_samples_leaf=2, min_samples_split=5, n_estimators=1000; total time=   1.2s\n",
      "[CV] END max_depth=10, min_samples_leaf=2, min_samples_split=5, n_estimators=2000; total time=   2.6s\n",
      "[CV] END max_depth=10, min_samples_leaf=2, min_samples_split=5, n_estimators=2000; total time=   2.5s\n",
      "[CV] END max_depth=10, min_samples_leaf=2, min_samples_split=5, n_estimators=2000; total time=   3.0s\n",
      "[CV] END max_depth=10, min_samples_leaf=2, min_samples_split=5, n_estimators=2000; total time=   3.2s\n",
      "[CV] END max_depth=10, min_samples_leaf=2, min_samples_split=5, n_estimators=2000; total time=   3.1s\n",
      "[CV] END max_depth=10, min_samples_leaf=2, min_samples_split=10, n_estimators=100; total time=   0.0s\n",
      "[CV] END max_depth=10, min_samples_leaf=2, min_samples_split=10, n_estimators=100; total time=   0.0s\n",
      "[CV] END max_depth=10, min_samples_leaf=2, min_samples_split=10, n_estimators=100; total time=   0.0s\n",
      "[CV] END max_depth=10, min_samples_leaf=2, min_samples_split=10, n_estimators=100; total time=   0.0s\n",
      "[CV] END max_depth=10, min_samples_leaf=2, min_samples_split=10, n_estimators=100; total time=   0.0s\n",
      "[CV] END max_depth=10, min_samples_leaf=2, min_samples_split=10, n_estimators=500; total time=   0.5s\n",
      "[CV] END max_depth=10, min_samples_leaf=2, min_samples_split=10, n_estimators=500; total time=   0.7s\n",
      "[CV] END max_depth=10, min_samples_leaf=2, min_samples_split=10, n_estimators=500; total time=   0.5s\n",
      "[CV] END max_depth=10, min_samples_leaf=2, min_samples_split=10, n_estimators=500; total time=   0.6s\n",
      "[CV] END max_depth=10, min_samples_leaf=2, min_samples_split=10, n_estimators=500; total time=   0.6s\n",
      "[CV] END max_depth=10, min_samples_leaf=2, min_samples_split=10, n_estimators=1000; total time=   1.3s\n",
      "[CV] END max_depth=10, min_samples_leaf=2, min_samples_split=10, n_estimators=1000; total time=   1.3s\n",
      "[CV] END max_depth=10, min_samples_leaf=2, min_samples_split=10, n_estimators=1000; total time=   1.2s\n",
      "[CV] END max_depth=10, min_samples_leaf=2, min_samples_split=10, n_estimators=1000; total time=   1.2s\n",
      "[CV] END max_depth=10, min_samples_leaf=2, min_samples_split=10, n_estimators=1000; total time=   1.2s\n",
      "[CV] END max_depth=10, min_samples_leaf=2, min_samples_split=10, n_estimators=2000; total time=   2.6s\n",
      "[CV] END max_depth=10, min_samples_leaf=2, min_samples_split=10, n_estimators=2000; total time=   2.5s\n",
      "[CV] END max_depth=10, min_samples_leaf=2, min_samples_split=10, n_estimators=2000; total time=   2.7s\n",
      "[CV] END max_depth=10, min_samples_leaf=2, min_samples_split=10, n_estimators=2000; total time=   2.6s\n",
      "[CV] END max_depth=10, min_samples_leaf=2, min_samples_split=10, n_estimators=2000; total time=   2.5s\n",
      "[CV] END max_depth=10, min_samples_leaf=4, min_samples_split=2, n_estimators=100; total time=   0.0s\n",
      "[CV] END max_depth=10, min_samples_leaf=4, min_samples_split=2, n_estimators=100; total time=   0.0s\n",
      "[CV] END max_depth=10, min_samples_leaf=4, min_samples_split=2, n_estimators=100; total time=   0.0s\n",
      "[CV] END max_depth=10, min_samples_leaf=4, min_samples_split=2, n_estimators=100; total time=   0.0s\n",
      "[CV] END max_depth=10, min_samples_leaf=4, min_samples_split=2, n_estimators=100; total time=   0.0s\n",
      "[CV] END max_depth=10, min_samples_leaf=4, min_samples_split=2, n_estimators=500; total time=   0.6s\n",
      "[CV] END max_depth=10, min_samples_leaf=4, min_samples_split=2, n_estimators=500; total time=   0.5s\n",
      "[CV] END max_depth=10, min_samples_leaf=4, min_samples_split=2, n_estimators=500; total time=   0.5s\n",
      "[CV] END max_depth=10, min_samples_leaf=4, min_samples_split=2, n_estimators=500; total time=   0.6s\n",
      "[CV] END max_depth=10, min_samples_leaf=4, min_samples_split=2, n_estimators=500; total time=   0.5s\n",
      "[CV] END max_depth=10, min_samples_leaf=4, min_samples_split=2, n_estimators=1000; total time=   1.2s\n",
      "[CV] END max_depth=10, min_samples_leaf=4, min_samples_split=2, n_estimators=1000; total time=   1.2s\n",
      "[CV] END max_depth=10, min_samples_leaf=4, min_samples_split=2, n_estimators=1000; total time=   1.2s\n",
      "[CV] END max_depth=10, min_samples_leaf=4, min_samples_split=2, n_estimators=1000; total time=   1.2s\n",
      "[CV] END max_depth=10, min_samples_leaf=4, min_samples_split=2, n_estimators=1000; total time=   1.2s\n",
      "[CV] END max_depth=10, min_samples_leaf=4, min_samples_split=2, n_estimators=2000; total time=   2.7s\n",
      "[CV] END max_depth=10, min_samples_leaf=4, min_samples_split=2, n_estimators=2000; total time=   3.1s\n",
      "[CV] END max_depth=10, min_samples_leaf=4, min_samples_split=2, n_estimators=2000; total time=   2.6s\n",
      "[CV] END max_depth=10, min_samples_leaf=4, min_samples_split=2, n_estimators=2000; total time=   2.6s\n",
      "[CV] END max_depth=10, min_samples_leaf=4, min_samples_split=2, n_estimators=2000; total time=   2.9s\n",
      "[CV] END max_depth=10, min_samples_leaf=4, min_samples_split=5, n_estimators=100; total time=   0.1s\n",
      "[CV] END max_depth=10, min_samples_leaf=4, min_samples_split=5, n_estimators=100; total time=   0.1s\n",
      "[CV] END max_depth=10, min_samples_leaf=4, min_samples_split=5, n_estimators=100; total time=   0.2s\n",
      "[CV] END max_depth=10, min_samples_leaf=4, min_samples_split=5, n_estimators=100; total time=   0.1s\n",
      "[CV] END max_depth=10, min_samples_leaf=4, min_samples_split=5, n_estimators=100; total time=   0.1s\n",
      "[CV] END max_depth=10, min_samples_leaf=4, min_samples_split=5, n_estimators=500; total time=   0.6s\n",
      "[CV] END max_depth=10, min_samples_leaf=4, min_samples_split=5, n_estimators=500; total time=   0.6s\n",
      "[CV] END max_depth=10, min_samples_leaf=4, min_samples_split=5, n_estimators=500; total time=   0.6s\n",
      "[CV] END max_depth=10, min_samples_leaf=4, min_samples_split=5, n_estimators=500; total time=   0.6s\n",
      "[CV] END max_depth=10, min_samples_leaf=4, min_samples_split=5, n_estimators=500; total time=   0.7s\n",
      "[CV] END max_depth=10, min_samples_leaf=4, min_samples_split=5, n_estimators=1000; total time=   1.6s\n",
      "[CV] END max_depth=10, min_samples_leaf=4, min_samples_split=5, n_estimators=1000; total time=   1.2s\n",
      "[CV] END max_depth=10, min_samples_leaf=4, min_samples_split=5, n_estimators=1000; total time=   1.2s\n",
      "[CV] END max_depth=10, min_samples_leaf=4, min_samples_split=5, n_estimators=1000; total time=   1.2s\n",
      "[CV] END max_depth=10, min_samples_leaf=4, min_samples_split=5, n_estimators=1000; total time=   1.2s\n",
      "[CV] END max_depth=10, min_samples_leaf=4, min_samples_split=5, n_estimators=2000; total time=   2.6s\n",
      "[CV] END max_depth=10, min_samples_leaf=4, min_samples_split=5, n_estimators=2000; total time=   3.4s\n",
      "[CV] END max_depth=10, min_samples_leaf=4, min_samples_split=5, n_estimators=2000; total time=   3.4s\n",
      "[CV] END max_depth=10, min_samples_leaf=4, min_samples_split=5, n_estimators=2000; total time=   2.7s\n",
      "[CV] END max_depth=10, min_samples_leaf=4, min_samples_split=5, n_estimators=2000; total time=   2.6s\n",
      "[CV] END max_depth=10, min_samples_leaf=4, min_samples_split=10, n_estimators=100; total time=   0.0s\n",
      "[CV] END max_depth=10, min_samples_leaf=4, min_samples_split=10, n_estimators=100; total time=   0.0s\n",
      "[CV] END max_depth=10, min_samples_leaf=4, min_samples_split=10, n_estimators=100; total time=   0.1s\n",
      "[CV] END max_depth=10, min_samples_leaf=4, min_samples_split=10, n_estimators=100; total time=   0.1s\n",
      "[CV] END max_depth=10, min_samples_leaf=4, min_samples_split=10, n_estimators=100; total time=   0.3s\n",
      "[CV] END max_depth=10, min_samples_leaf=4, min_samples_split=10, n_estimators=500; total time=   0.8s\n",
      "[CV] END max_depth=10, min_samples_leaf=4, min_samples_split=10, n_estimators=500; total time=   0.7s\n",
      "[CV] END max_depth=10, min_samples_leaf=4, min_samples_split=10, n_estimators=500; total time=   0.6s\n",
      "[CV] END max_depth=10, min_samples_leaf=4, min_samples_split=10, n_estimators=500; total time=   0.6s\n",
      "[CV] END max_depth=10, min_samples_leaf=4, min_samples_split=10, n_estimators=500; total time=   0.6s\n",
      "[CV] END max_depth=10, min_samples_leaf=4, min_samples_split=10, n_estimators=1000; total time=   2.0s\n",
      "[CV] END max_depth=10, min_samples_leaf=4, min_samples_split=10, n_estimators=1000; total time=   1.3s\n",
      "[CV] END max_depth=10, min_samples_leaf=4, min_samples_split=10, n_estimators=1000; total time=   1.3s\n",
      "[CV] END max_depth=10, min_samples_leaf=4, min_samples_split=10, n_estimators=1000; total time=   1.3s\n",
      "[CV] END max_depth=10, min_samples_leaf=4, min_samples_split=10, n_estimators=1000; total time=   1.8s\n",
      "[CV] END max_depth=10, min_samples_leaf=4, min_samples_split=10, n_estimators=2000; total time=   2.7s\n",
      "[CV] END max_depth=10, min_samples_leaf=4, min_samples_split=10, n_estimators=2000; total time=   2.6s\n",
      "[CV] END max_depth=10, min_samples_leaf=4, min_samples_split=10, n_estimators=2000; total time=   3.3s\n",
      "[CV] END max_depth=10, min_samples_leaf=4, min_samples_split=10, n_estimators=2000; total time=   2.8s\n",
      "[CV] END max_depth=10, min_samples_leaf=4, min_samples_split=10, n_estimators=2000; total time=   3.0s\n",
      "[CV] END max_depth=50, min_samples_leaf=1, min_samples_split=2, n_estimators=100; total time=   0.1s\n",
      "[CV] END max_depth=50, min_samples_leaf=1, min_samples_split=2, n_estimators=100; total time=   0.1s\n",
      "[CV] END max_depth=50, min_samples_leaf=1, min_samples_split=2, n_estimators=100; total time=   0.1s\n",
      "[CV] END max_depth=50, min_samples_leaf=1, min_samples_split=2, n_estimators=100; total time=   0.1s\n",
      "[CV] END max_depth=50, min_samples_leaf=1, min_samples_split=2, n_estimators=100; total time=   0.1s\n",
      "[CV] END max_depth=50, min_samples_leaf=1, min_samples_split=2, n_estimators=500; total time=   0.7s\n",
      "[CV] END max_depth=50, min_samples_leaf=1, min_samples_split=2, n_estimators=500; total time=   0.7s\n",
      "[CV] END max_depth=50, min_samples_leaf=1, min_samples_split=2, n_estimators=500; total time=   0.8s\n",
      "[CV] END max_depth=50, min_samples_leaf=1, min_samples_split=2, n_estimators=500; total time=   0.6s\n",
      "[CV] END max_depth=50, min_samples_leaf=1, min_samples_split=2, n_estimators=500; total time=   0.6s\n",
      "[CV] END max_depth=50, min_samples_leaf=1, min_samples_split=2, n_estimators=1000; total time=   1.4s\n",
      "[CV] END max_depth=50, min_samples_leaf=1, min_samples_split=2, n_estimators=1000; total time=   1.4s\n",
      "[CV] END max_depth=50, min_samples_leaf=1, min_samples_split=2, n_estimators=1000; total time=   1.3s\n",
      "[CV] END max_depth=50, min_samples_leaf=1, min_samples_split=2, n_estimators=1000; total time=   1.4s\n",
      "[CV] END max_depth=50, min_samples_leaf=1, min_samples_split=2, n_estimators=1000; total time=   1.4s\n",
      "[CV] END max_depth=50, min_samples_leaf=1, min_samples_split=2, n_estimators=2000; total time=   2.7s\n",
      "[CV] END max_depth=50, min_samples_leaf=1, min_samples_split=2, n_estimators=2000; total time=   2.7s\n",
      "[CV] END max_depth=50, min_samples_leaf=1, min_samples_split=2, n_estimators=2000; total time=   3.0s\n",
      "[CV] END max_depth=50, min_samples_leaf=1, min_samples_split=2, n_estimators=2000; total time=   3.4s\n",
      "[CV] END max_depth=50, min_samples_leaf=1, min_samples_split=2, n_estimators=2000; total time=   2.7s\n",
      "[CV] END max_depth=50, min_samples_leaf=1, min_samples_split=5, n_estimators=100; total time=   0.0s\n",
      "[CV] END max_depth=50, min_samples_leaf=1, min_samples_split=5, n_estimators=100; total time=   0.0s\n",
      "[CV] END max_depth=50, min_samples_leaf=1, min_samples_split=5, n_estimators=100; total time=   0.0s\n",
      "[CV] END max_depth=50, min_samples_leaf=1, min_samples_split=5, n_estimators=100; total time=   0.0s\n",
      "[CV] END max_depth=50, min_samples_leaf=1, min_samples_split=5, n_estimators=100; total time=   0.1s\n",
      "[CV] END max_depth=50, min_samples_leaf=1, min_samples_split=5, n_estimators=500; total time=   0.7s\n",
      "[CV] END max_depth=50, min_samples_leaf=1, min_samples_split=5, n_estimators=500; total time=   0.6s\n",
      "[CV] END max_depth=50, min_samples_leaf=1, min_samples_split=5, n_estimators=500; total time=   0.6s\n",
      "[CV] END max_depth=50, min_samples_leaf=1, min_samples_split=5, n_estimators=500; total time=   0.6s\n",
      "[CV] END max_depth=50, min_samples_leaf=1, min_samples_split=5, n_estimators=500; total time=   0.6s\n",
      "[CV] END max_depth=50, min_samples_leaf=1, min_samples_split=5, n_estimators=1000; total time=   1.4s\n",
      "[CV] END max_depth=50, min_samples_leaf=1, min_samples_split=5, n_estimators=1000; total time=   1.3s\n",
      "[CV] END max_depth=50, min_samples_leaf=1, min_samples_split=5, n_estimators=1000; total time=   1.3s\n",
      "[CV] END max_depth=50, min_samples_leaf=1, min_samples_split=5, n_estimators=1000; total time=   1.3s\n",
      "[CV] END max_depth=50, min_samples_leaf=1, min_samples_split=5, n_estimators=1000; total time=   1.3s\n",
      "[CV] END max_depth=50, min_samples_leaf=1, min_samples_split=5, n_estimators=2000; total time=   2.6s\n",
      "[CV] END max_depth=50, min_samples_leaf=1, min_samples_split=5, n_estimators=2000; total time=   2.8s\n",
      "[CV] END max_depth=50, min_samples_leaf=1, min_samples_split=5, n_estimators=2000; total time=   2.8s\n",
      "[CV] END max_depth=50, min_samples_leaf=1, min_samples_split=5, n_estimators=2000; total time=   2.8s\n",
      "[CV] END max_depth=50, min_samples_leaf=1, min_samples_split=5, n_estimators=2000; total time=   2.8s\n",
      "[CV] END max_depth=50, min_samples_leaf=1, min_samples_split=10, n_estimators=100; total time=   0.0s\n",
      "[CV] END max_depth=50, min_samples_leaf=1, min_samples_split=10, n_estimators=100; total time=   0.1s\n",
      "[CV] END max_depth=50, min_samples_leaf=1, min_samples_split=10, n_estimators=100; total time=   0.1s\n",
      "[CV] END max_depth=50, min_samples_leaf=1, min_samples_split=10, n_estimators=100; total time=   0.1s\n",
      "[CV] END max_depth=50, min_samples_leaf=1, min_samples_split=10, n_estimators=100; total time=   0.0s\n",
      "[CV] END max_depth=50, min_samples_leaf=1, min_samples_split=10, n_estimators=500; total time=   0.6s\n",
      "[CV] END max_depth=50, min_samples_leaf=1, min_samples_split=10, n_estimators=500; total time=   0.6s\n",
      "[CV] END max_depth=50, min_samples_leaf=1, min_samples_split=10, n_estimators=500; total time=   0.6s\n",
      "[CV] END max_depth=50, min_samples_leaf=1, min_samples_split=10, n_estimators=500; total time=   0.6s\n",
      "[CV] END max_depth=50, min_samples_leaf=1, min_samples_split=10, n_estimators=500; total time=   0.6s\n",
      "[CV] END max_depth=50, min_samples_leaf=1, min_samples_split=10, n_estimators=1000; total time=   1.3s\n",
      "[CV] END max_depth=50, min_samples_leaf=1, min_samples_split=10, n_estimators=1000; total time=   1.3s\n",
      "[CV] END max_depth=50, min_samples_leaf=1, min_samples_split=10, n_estimators=1000; total time=   1.3s\n",
      "[CV] END max_depth=50, min_samples_leaf=1, min_samples_split=10, n_estimators=1000; total time=   1.3s\n",
      "[CV] END max_depth=50, min_samples_leaf=1, min_samples_split=10, n_estimators=1000; total time=   1.3s\n",
      "[CV] END max_depth=50, min_samples_leaf=1, min_samples_split=10, n_estimators=2000; total time=   2.7s\n",
      "[CV] END max_depth=50, min_samples_leaf=1, min_samples_split=10, n_estimators=2000; total time=   2.7s\n",
      "[CV] END max_depth=50, min_samples_leaf=1, min_samples_split=10, n_estimators=2000; total time=   2.6s\n",
      "[CV] END max_depth=50, min_samples_leaf=1, min_samples_split=10, n_estimators=2000; total time=   2.7s\n",
      "[CV] END max_depth=50, min_samples_leaf=1, min_samples_split=10, n_estimators=2000; total time=   2.6s\n",
      "[CV] END max_depth=50, min_samples_leaf=2, min_samples_split=2, n_estimators=100; total time=   0.0s\n",
      "[CV] END max_depth=50, min_samples_leaf=2, min_samples_split=2, n_estimators=100; total time=   0.0s\n",
      "[CV] END max_depth=50, min_samples_leaf=2, min_samples_split=2, n_estimators=100; total time=   0.0s\n",
      "[CV] END max_depth=50, min_samples_leaf=2, min_samples_split=2, n_estimators=100; total time=   0.0s\n",
      "[CV] END max_depth=50, min_samples_leaf=2, min_samples_split=2, n_estimators=100; total time=   0.1s\n",
      "[CV] END max_depth=50, min_samples_leaf=2, min_samples_split=2, n_estimators=500; total time=   0.6s\n",
      "[CV] END max_depth=50, min_samples_leaf=2, min_samples_split=2, n_estimators=500; total time=   0.6s\n",
      "[CV] END max_depth=50, min_samples_leaf=2, min_samples_split=2, n_estimators=500; total time=   0.6s\n",
      "[CV] END max_depth=50, min_samples_leaf=2, min_samples_split=2, n_estimators=500; total time=   0.6s\n",
      "[CV] END max_depth=50, min_samples_leaf=2, min_samples_split=2, n_estimators=500; total time=   0.6s\n",
      "[CV] END max_depth=50, min_samples_leaf=2, min_samples_split=2, n_estimators=1000; total time=   1.3s\n",
      "[CV] END max_depth=50, min_samples_leaf=2, min_samples_split=2, n_estimators=1000; total time=   1.4s\n",
      "[CV] END max_depth=50, min_samples_leaf=2, min_samples_split=2, n_estimators=1000; total time=   1.3s\n",
      "[CV] END max_depth=50, min_samples_leaf=2, min_samples_split=2, n_estimators=1000; total time=   1.3s\n",
      "[CV] END max_depth=50, min_samples_leaf=2, min_samples_split=2, n_estimators=1000; total time=   1.3s\n",
      "[CV] END max_depth=50, min_samples_leaf=2, min_samples_split=2, n_estimators=2000; total time=   2.7s\n",
      "[CV] END max_depth=50, min_samples_leaf=2, min_samples_split=2, n_estimators=2000; total time=   2.7s\n",
      "[CV] END max_depth=50, min_samples_leaf=2, min_samples_split=2, n_estimators=2000; total time=   2.8s\n",
      "[CV] END max_depth=50, min_samples_leaf=2, min_samples_split=2, n_estimators=2000; total time=   2.8s\n",
      "[CV] END max_depth=50, min_samples_leaf=2, min_samples_split=2, n_estimators=2000; total time=   2.7s\n",
      "[CV] END max_depth=50, min_samples_leaf=2, min_samples_split=5, n_estimators=100; total time=   0.0s\n",
      "[CV] END max_depth=50, min_samples_leaf=2, min_samples_split=5, n_estimators=100; total time=   0.0s\n",
      "[CV] END max_depth=50, min_samples_leaf=2, min_samples_split=5, n_estimators=100; total time=   0.0s\n",
      "[CV] END max_depth=50, min_samples_leaf=2, min_samples_split=5, n_estimators=100; total time=   0.0s\n",
      "[CV] END max_depth=50, min_samples_leaf=2, min_samples_split=5, n_estimators=100; total time=   0.0s\n",
      "[CV] END max_depth=50, min_samples_leaf=2, min_samples_split=5, n_estimators=500; total time=   0.6s\n",
      "[CV] END max_depth=50, min_samples_leaf=2, min_samples_split=5, n_estimators=500; total time=   0.6s\n",
      "[CV] END max_depth=50, min_samples_leaf=2, min_samples_split=5, n_estimators=500; total time=   0.6s\n",
      "[CV] END max_depth=50, min_samples_leaf=2, min_samples_split=5, n_estimators=500; total time=   0.7s\n",
      "[CV] END max_depth=50, min_samples_leaf=2, min_samples_split=5, n_estimators=500; total time=   0.6s\n",
      "[CV] END max_depth=50, min_samples_leaf=2, min_samples_split=5, n_estimators=1000; total time=   1.3s\n",
      "[CV] END max_depth=50, min_samples_leaf=2, min_samples_split=5, n_estimators=1000; total time=   1.3s\n",
      "[CV] END max_depth=50, min_samples_leaf=2, min_samples_split=5, n_estimators=1000; total time=   1.3s\n",
      "[CV] END max_depth=50, min_samples_leaf=2, min_samples_split=5, n_estimators=1000; total time=   1.3s\n",
      "[CV] END max_depth=50, min_samples_leaf=2, min_samples_split=5, n_estimators=1000; total time=   1.3s\n",
      "[CV] END max_depth=50, min_samples_leaf=2, min_samples_split=5, n_estimators=2000; total time=   3.4s\n",
      "[CV] END max_depth=50, min_samples_leaf=2, min_samples_split=5, n_estimators=2000; total time=   2.8s\n",
      "[CV] END max_depth=50, min_samples_leaf=2, min_samples_split=5, n_estimators=2000; total time=   2.7s\n",
      "[CV] END max_depth=50, min_samples_leaf=2, min_samples_split=5, n_estimators=2000; total time=   2.7s\n",
      "[CV] END max_depth=50, min_samples_leaf=2, min_samples_split=5, n_estimators=2000; total time=   2.7s\n",
      "[CV] END max_depth=50, min_samples_leaf=2, min_samples_split=10, n_estimators=100; total time=   0.0s\n",
      "[CV] END max_depth=50, min_samples_leaf=2, min_samples_split=10, n_estimators=100; total time=   0.0s\n",
      "[CV] END max_depth=50, min_samples_leaf=2, min_samples_split=10, n_estimators=100; total time=   0.0s\n",
      "[CV] END max_depth=50, min_samples_leaf=2, min_samples_split=10, n_estimators=100; total time=   0.0s\n",
      "[CV] END max_depth=50, min_samples_leaf=2, min_samples_split=10, n_estimators=100; total time=   0.0s\n",
      "[CV] END max_depth=50, min_samples_leaf=2, min_samples_split=10, n_estimators=500; total time=   0.6s\n",
      "[CV] END max_depth=50, min_samples_leaf=2, min_samples_split=10, n_estimators=500; total time=   0.6s\n",
      "[CV] END max_depth=50, min_samples_leaf=2, min_samples_split=10, n_estimators=500; total time=   0.6s\n",
      "[CV] END max_depth=50, min_samples_leaf=2, min_samples_split=10, n_estimators=500; total time=   0.6s\n",
      "[CV] END max_depth=50, min_samples_leaf=2, min_samples_split=10, n_estimators=500; total time=   0.6s\n",
      "[CV] END max_depth=50, min_samples_leaf=2, min_samples_split=10, n_estimators=1000; total time=   1.3s\n",
      "[CV] END max_depth=50, min_samples_leaf=2, min_samples_split=10, n_estimators=1000; total time=   1.3s\n",
      "[CV] END max_depth=50, min_samples_leaf=2, min_samples_split=10, n_estimators=1000; total time=   1.3s\n",
      "[CV] END max_depth=50, min_samples_leaf=2, min_samples_split=10, n_estimators=1000; total time=   1.4s\n",
      "[CV] END max_depth=50, min_samples_leaf=2, min_samples_split=10, n_estimators=1000; total time=   1.3s\n",
      "[CV] END max_depth=50, min_samples_leaf=2, min_samples_split=10, n_estimators=2000; total time=   2.8s\n",
      "[CV] END max_depth=50, min_samples_leaf=2, min_samples_split=10, n_estimators=2000; total time=   2.7s\n",
      "[CV] END max_depth=50, min_samples_leaf=2, min_samples_split=10, n_estimators=2000; total time=   2.7s\n",
      "[CV] END max_depth=50, min_samples_leaf=2, min_samples_split=10, n_estimators=2000; total time=   2.7s\n",
      "[CV] END max_depth=50, min_samples_leaf=2, min_samples_split=10, n_estimators=2000; total time=   2.7s\n",
      "[CV] END max_depth=50, min_samples_leaf=4, min_samples_split=2, n_estimators=100; total time=   0.1s\n",
      "[CV] END max_depth=50, min_samples_leaf=4, min_samples_split=2, n_estimators=100; total time=   0.0s\n",
      "[CV] END max_depth=50, min_samples_leaf=4, min_samples_split=2, n_estimators=100; total time=   0.0s\n",
      "[CV] END max_depth=50, min_samples_leaf=4, min_samples_split=2, n_estimators=100; total time=   0.0s\n",
      "[CV] END max_depth=50, min_samples_leaf=4, min_samples_split=2, n_estimators=100; total time=   0.0s\n",
      "[CV] END max_depth=50, min_samples_leaf=4, min_samples_split=2, n_estimators=500; total time=   0.6s\n",
      "[CV] END max_depth=50, min_samples_leaf=4, min_samples_split=2, n_estimators=500; total time=   0.6s\n",
      "[CV] END max_depth=50, min_samples_leaf=4, min_samples_split=2, n_estimators=500; total time=   0.6s\n",
      "[CV] END max_depth=50, min_samples_leaf=4, min_samples_split=2, n_estimators=500; total time=   0.6s\n",
      "[CV] END max_depth=50, min_samples_leaf=4, min_samples_split=2, n_estimators=500; total time=   0.6s\n",
      "[CV] END max_depth=50, min_samples_leaf=4, min_samples_split=2, n_estimators=1000; total time=   1.3s\n",
      "[CV] END max_depth=50, min_samples_leaf=4, min_samples_split=2, n_estimators=1000; total time=   1.2s\n",
      "[CV] END max_depth=50, min_samples_leaf=4, min_samples_split=2, n_estimators=1000; total time=   1.2s\n",
      "[CV] END max_depth=50, min_samples_leaf=4, min_samples_split=2, n_estimators=1000; total time=   1.3s\n",
      "[CV] END max_depth=50, min_samples_leaf=4, min_samples_split=2, n_estimators=1000; total time=   1.2s\n",
      "[CV] END max_depth=50, min_samples_leaf=4, min_samples_split=2, n_estimators=2000; total time=   2.6s\n",
      "[CV] END max_depth=50, min_samples_leaf=4, min_samples_split=2, n_estimators=2000; total time=   2.7s\n",
      "[CV] END max_depth=50, min_samples_leaf=4, min_samples_split=2, n_estimators=2000; total time=   2.7s\n",
      "[CV] END max_depth=50, min_samples_leaf=4, min_samples_split=2, n_estimators=2000; total time=   2.7s\n",
      "[CV] END max_depth=50, min_samples_leaf=4, min_samples_split=2, n_estimators=2000; total time=   2.6s\n",
      "[CV] END max_depth=50, min_samples_leaf=4, min_samples_split=5, n_estimators=100; total time=   0.0s\n",
      "[CV] END max_depth=50, min_samples_leaf=4, min_samples_split=5, n_estimators=100; total time=   0.0s\n",
      "[CV] END max_depth=50, min_samples_leaf=4, min_samples_split=5, n_estimators=100; total time=   0.0s\n",
      "[CV] END max_depth=50, min_samples_leaf=4, min_samples_split=5, n_estimators=100; total time=   0.0s\n",
      "[CV] END max_depth=50, min_samples_leaf=4, min_samples_split=5, n_estimators=100; total time=   0.0s\n",
      "[CV] END max_depth=50, min_samples_leaf=4, min_samples_split=5, n_estimators=500; total time=   0.6s\n",
      "[CV] END max_depth=50, min_samples_leaf=4, min_samples_split=5, n_estimators=500; total time=   0.6s\n",
      "[CV] END max_depth=50, min_samples_leaf=4, min_samples_split=5, n_estimators=500; total time=   0.6s\n",
      "[CV] END max_depth=50, min_samples_leaf=4, min_samples_split=5, n_estimators=500; total time=   0.6s\n",
      "[CV] END max_depth=50, min_samples_leaf=4, min_samples_split=5, n_estimators=500; total time=   0.7s\n",
      "[CV] END max_depth=50, min_samples_leaf=4, min_samples_split=5, n_estimators=1000; total time=   1.6s\n",
      "[CV] END max_depth=50, min_samples_leaf=4, min_samples_split=5, n_estimators=1000; total time=   1.4s\n",
      "[CV] END max_depth=50, min_samples_leaf=4, min_samples_split=5, n_estimators=1000; total time=   1.3s\n",
      "[CV] END max_depth=50, min_samples_leaf=4, min_samples_split=5, n_estimators=1000; total time=   1.3s\n",
      "[CV] END max_depth=50, min_samples_leaf=4, min_samples_split=5, n_estimators=1000; total time=   1.3s\n",
      "[CV] END max_depth=50, min_samples_leaf=4, min_samples_split=5, n_estimators=2000; total time=   3.0s\n",
      "[CV] END max_depth=50, min_samples_leaf=4, min_samples_split=5, n_estimators=2000; total time=   3.3s\n",
      "[CV] END max_depth=50, min_samples_leaf=4, min_samples_split=5, n_estimators=2000; total time=   2.7s\n",
      "[CV] END max_depth=50, min_samples_leaf=4, min_samples_split=5, n_estimators=2000; total time=   2.9s\n",
      "[CV] END max_depth=50, min_samples_leaf=4, min_samples_split=5, n_estimators=2000; total time=   2.7s\n",
      "[CV] END max_depth=50, min_samples_leaf=4, min_samples_split=10, n_estimators=100; total time=   0.1s\n",
      "[CV] END max_depth=50, min_samples_leaf=4, min_samples_split=10, n_estimators=100; total time=   0.0s\n",
      "[CV] END max_depth=50, min_samples_leaf=4, min_samples_split=10, n_estimators=100; total time=   0.0s\n",
      "[CV] END max_depth=50, min_samples_leaf=4, min_samples_split=10, n_estimators=100; total time=   0.0s\n",
      "[CV] END max_depth=50, min_samples_leaf=4, min_samples_split=10, n_estimators=100; total time=   0.1s\n",
      "[CV] END max_depth=50, min_samples_leaf=4, min_samples_split=10, n_estimators=500; total time=   0.7s\n",
      "[CV] END max_depth=50, min_samples_leaf=4, min_samples_split=10, n_estimators=500; total time=   0.6s\n",
      "[CV] END max_depth=50, min_samples_leaf=4, min_samples_split=10, n_estimators=500; total time=   0.7s\n",
      "[CV] END max_depth=50, min_samples_leaf=4, min_samples_split=10, n_estimators=500; total time=   0.6s\n",
      "[CV] END max_depth=50, min_samples_leaf=4, min_samples_split=10, n_estimators=500; total time=   0.6s\n",
      "[CV] END max_depth=50, min_samples_leaf=4, min_samples_split=10, n_estimators=1000; total time=   1.3s\n",
      "[CV] END max_depth=50, min_samples_leaf=4, min_samples_split=10, n_estimators=1000; total time=   1.3s\n",
      "[CV] END max_depth=50, min_samples_leaf=4, min_samples_split=10, n_estimators=1000; total time=   1.3s\n",
      "[CV] END max_depth=50, min_samples_leaf=4, min_samples_split=10, n_estimators=1000; total time=   1.2s\n",
      "[CV] END max_depth=50, min_samples_leaf=4, min_samples_split=10, n_estimators=1000; total time=   1.3s\n",
      "[CV] END max_depth=50, min_samples_leaf=4, min_samples_split=10, n_estimators=2000; total time=   2.6s\n",
      "[CV] END max_depth=50, min_samples_leaf=4, min_samples_split=10, n_estimators=2000; total time=   3.6s\n",
      "[CV] END max_depth=50, min_samples_leaf=4, min_samples_split=10, n_estimators=2000; total time=   3.0s\n",
      "[CV] END max_depth=50, min_samples_leaf=4, min_samples_split=10, n_estimators=2000; total time=   2.8s\n",
      "[CV] END max_depth=50, min_samples_leaf=4, min_samples_split=10, n_estimators=2000; total time=   2.8s\n",
      "[CV] END max_depth=100, min_samples_leaf=1, min_samples_split=2, n_estimators=100; total time=   0.0s\n",
      "[CV] END max_depth=100, min_samples_leaf=1, min_samples_split=2, n_estimators=100; total time=   0.0s\n",
      "[CV] END max_depth=100, min_samples_leaf=1, min_samples_split=2, n_estimators=100; total time=   0.0s\n",
      "[CV] END max_depth=100, min_samples_leaf=1, min_samples_split=2, n_estimators=100; total time=   0.0s\n",
      "[CV] END max_depth=100, min_samples_leaf=1, min_samples_split=2, n_estimators=100; total time=   0.0s\n",
      "[CV] END max_depth=100, min_samples_leaf=1, min_samples_split=2, n_estimators=500; total time=   0.6s\n",
      "[CV] END max_depth=100, min_samples_leaf=1, min_samples_split=2, n_estimators=500; total time=   0.6s\n",
      "[CV] END max_depth=100, min_samples_leaf=1, min_samples_split=2, n_estimators=500; total time=   0.7s\n",
      "[CV] END max_depth=100, min_samples_leaf=1, min_samples_split=2, n_estimators=500; total time=   0.7s\n",
      "[CV] END max_depth=100, min_samples_leaf=1, min_samples_split=2, n_estimators=500; total time=   0.6s\n",
      "[CV] END max_depth=100, min_samples_leaf=1, min_samples_split=2, n_estimators=1000; total time=   1.5s\n",
      "[CV] END max_depth=100, min_samples_leaf=1, min_samples_split=2, n_estimators=1000; total time=   1.4s\n",
      "[CV] END max_depth=100, min_samples_leaf=1, min_samples_split=2, n_estimators=1000; total time=   1.4s\n",
      "[CV] END max_depth=100, min_samples_leaf=1, min_samples_split=2, n_estimators=1000; total time=   1.4s\n",
      "[CV] END max_depth=100, min_samples_leaf=1, min_samples_split=2, n_estimators=1000; total time=   1.4s\n",
      "[CV] END max_depth=100, min_samples_leaf=1, min_samples_split=2, n_estimators=2000; total time=   2.9s\n",
      "[CV] END max_depth=100, min_samples_leaf=1, min_samples_split=2, n_estimators=2000; total time=   2.8s\n",
      "[CV] END max_depth=100, min_samples_leaf=1, min_samples_split=2, n_estimators=2000; total time=   2.8s\n",
      "[CV] END max_depth=100, min_samples_leaf=1, min_samples_split=2, n_estimators=2000; total time=   2.9s\n",
      "[CV] END max_depth=100, min_samples_leaf=1, min_samples_split=2, n_estimators=2000; total time=   2.8s\n",
      "[CV] END max_depth=100, min_samples_leaf=1, min_samples_split=5, n_estimators=100; total time=   0.0s\n",
      "[CV] END max_depth=100, min_samples_leaf=1, min_samples_split=5, n_estimators=100; total time=   0.0s\n",
      "[CV] END max_depth=100, min_samples_leaf=1, min_samples_split=5, n_estimators=100; total time=   0.0s\n",
      "[CV] END max_depth=100, min_samples_leaf=1, min_samples_split=5, n_estimators=100; total time=   0.0s\n",
      "[CV] END max_depth=100, min_samples_leaf=1, min_samples_split=5, n_estimators=100; total time=   0.0s\n",
      "[CV] END max_depth=100, min_samples_leaf=1, min_samples_split=5, n_estimators=500; total time=   0.6s\n",
      "[CV] END max_depth=100, min_samples_leaf=1, min_samples_split=5, n_estimators=500; total time=   0.6s\n",
      "[CV] END max_depth=100, min_samples_leaf=1, min_samples_split=5, n_estimators=500; total time=   0.7s\n",
      "[CV] END max_depth=100, min_samples_leaf=1, min_samples_split=5, n_estimators=500; total time=   0.6s\n",
      "[CV] END max_depth=100, min_samples_leaf=1, min_samples_split=5, n_estimators=500; total time=   0.6s\n",
      "[CV] END max_depth=100, min_samples_leaf=1, min_samples_split=5, n_estimators=1000; total time=   1.3s\n",
      "[CV] END max_depth=100, min_samples_leaf=1, min_samples_split=5, n_estimators=1000; total time=   1.4s\n",
      "[CV] END max_depth=100, min_samples_leaf=1, min_samples_split=5, n_estimators=1000; total time=   1.4s\n",
      "[CV] END max_depth=100, min_samples_leaf=1, min_samples_split=5, n_estimators=1000; total time=   1.3s\n",
      "[CV] END max_depth=100, min_samples_leaf=1, min_samples_split=5, n_estimators=1000; total time=   1.4s\n",
      "[CV] END max_depth=100, min_samples_leaf=1, min_samples_split=5, n_estimators=2000; total time=   2.7s\n",
      "[CV] END max_depth=100, min_samples_leaf=1, min_samples_split=5, n_estimators=2000; total time=   2.7s\n",
      "[CV] END max_depth=100, min_samples_leaf=1, min_samples_split=5, n_estimators=2000; total time=   2.7s\n",
      "[CV] END max_depth=100, min_samples_leaf=1, min_samples_split=5, n_estimators=2000; total time=   2.8s\n",
      "[CV] END max_depth=100, min_samples_leaf=1, min_samples_split=5, n_estimators=2000; total time=   2.8s\n",
      "[CV] END max_depth=100, min_samples_leaf=1, min_samples_split=10, n_estimators=100; total time=   0.0s\n",
      "[CV] END max_depth=100, min_samples_leaf=1, min_samples_split=10, n_estimators=100; total time=   0.0s\n",
      "[CV] END max_depth=100, min_samples_leaf=1, min_samples_split=10, n_estimators=100; total time=   0.0s\n",
      "[CV] END max_depth=100, min_samples_leaf=1, min_samples_split=10, n_estimators=100; total time=   0.0s\n",
      "[CV] END max_depth=100, min_samples_leaf=1, min_samples_split=10, n_estimators=100; total time=   0.0s\n",
      "[CV] END max_depth=100, min_samples_leaf=1, min_samples_split=10, n_estimators=500; total time=   0.6s\n",
      "[CV] END max_depth=100, min_samples_leaf=1, min_samples_split=10, n_estimators=500; total time=   0.6s\n",
      "[CV] END max_depth=100, min_samples_leaf=1, min_samples_split=10, n_estimators=500; total time=   0.6s\n",
      "[CV] END max_depth=100, min_samples_leaf=1, min_samples_split=10, n_estimators=500; total time=   0.7s\n",
      "[CV] END max_depth=100, min_samples_leaf=1, min_samples_split=10, n_estimators=500; total time=   0.6s\n",
      "[CV] END max_depth=100, min_samples_leaf=1, min_samples_split=10, n_estimators=1000; total time=   1.4s\n",
      "[CV] END max_depth=100, min_samples_leaf=1, min_samples_split=10, n_estimators=1000; total time=   1.4s\n",
      "[CV] END max_depth=100, min_samples_leaf=1, min_samples_split=10, n_estimators=1000; total time=   1.4s\n",
      "[CV] END max_depth=100, min_samples_leaf=1, min_samples_split=10, n_estimators=1000; total time=   1.3s\n",
      "[CV] END max_depth=100, min_samples_leaf=1, min_samples_split=10, n_estimators=1000; total time=   1.4s\n",
      "[CV] END max_depth=100, min_samples_leaf=1, min_samples_split=10, n_estimators=2000; total time=   3.0s\n",
      "[CV] END max_depth=100, min_samples_leaf=1, min_samples_split=10, n_estimators=2000; total time=   2.6s\n",
      "[CV] END max_depth=100, min_samples_leaf=1, min_samples_split=10, n_estimators=2000; total time=   2.8s\n",
      "[CV] END max_depth=100, min_samples_leaf=1, min_samples_split=10, n_estimators=2000; total time=   2.6s\n",
      "[CV] END max_depth=100, min_samples_leaf=1, min_samples_split=10, n_estimators=2000; total time=   2.8s\n",
      "[CV] END max_depth=100, min_samples_leaf=2, min_samples_split=2, n_estimators=100; total time=   0.0s\n",
      "[CV] END max_depth=100, min_samples_leaf=2, min_samples_split=2, n_estimators=100; total time=   0.0s\n",
      "[CV] END max_depth=100, min_samples_leaf=2, min_samples_split=2, n_estimators=100; total time=   0.0s\n",
      "[CV] END max_depth=100, min_samples_leaf=2, min_samples_split=2, n_estimators=100; total time=   0.0s\n",
      "[CV] END max_depth=100, min_samples_leaf=2, min_samples_split=2, n_estimators=100; total time=   0.0s\n",
      "[CV] END max_depth=100, min_samples_leaf=2, min_samples_split=2, n_estimators=500; total time=   0.6s\n",
      "[CV] END max_depth=100, min_samples_leaf=2, min_samples_split=2, n_estimators=500; total time=   0.6s\n",
      "[CV] END max_depth=100, min_samples_leaf=2, min_samples_split=2, n_estimators=500; total time=   0.6s\n",
      "[CV] END max_depth=100, min_samples_leaf=2, min_samples_split=2, n_estimators=500; total time=   0.6s\n",
      "[CV] END max_depth=100, min_samples_leaf=2, min_samples_split=2, n_estimators=500; total time=   0.6s\n",
      "[CV] END max_depth=100, min_samples_leaf=2, min_samples_split=2, n_estimators=1000; total time=   1.3s\n",
      "[CV] END max_depth=100, min_samples_leaf=2, min_samples_split=2, n_estimators=1000; total time=   1.3s\n",
      "[CV] END max_depth=100, min_samples_leaf=2, min_samples_split=2, n_estimators=1000; total time=   1.3s\n",
      "[CV] END max_depth=100, min_samples_leaf=2, min_samples_split=2, n_estimators=1000; total time=   1.3s\n",
      "[CV] END max_depth=100, min_samples_leaf=2, min_samples_split=2, n_estimators=1000; total time=   1.3s\n",
      "[CV] END max_depth=100, min_samples_leaf=2, min_samples_split=2, n_estimators=2000; total time=   2.9s\n",
      "[CV] END max_depth=100, min_samples_leaf=2, min_samples_split=2, n_estimators=2000; total time=   2.9s\n",
      "[CV] END max_depth=100, min_samples_leaf=2, min_samples_split=2, n_estimators=2000; total time=   2.7s\n",
      "[CV] END max_depth=100, min_samples_leaf=2, min_samples_split=2, n_estimators=2000; total time=   2.8s\n",
      "[CV] END max_depth=100, min_samples_leaf=2, min_samples_split=2, n_estimators=2000; total time=   2.7s\n",
      "[CV] END max_depth=100, min_samples_leaf=2, min_samples_split=5, n_estimators=100; total time=   0.0s\n",
      "[CV] END max_depth=100, min_samples_leaf=2, min_samples_split=5, n_estimators=100; total time=   0.0s\n",
      "[CV] END max_depth=100, min_samples_leaf=2, min_samples_split=5, n_estimators=100; total time=   0.0s\n",
      "[CV] END max_depth=100, min_samples_leaf=2, min_samples_split=5, n_estimators=100; total time=   0.0s\n",
      "[CV] END max_depth=100, min_samples_leaf=2, min_samples_split=5, n_estimators=100; total time=   0.0s\n",
      "[CV] END max_depth=100, min_samples_leaf=2, min_samples_split=5, n_estimators=500; total time=   0.6s\n",
      "[CV] END max_depth=100, min_samples_leaf=2, min_samples_split=5, n_estimators=500; total time=   0.6s\n",
      "[CV] END max_depth=100, min_samples_leaf=2, min_samples_split=5, n_estimators=500; total time=   0.6s\n",
      "[CV] END max_depth=100, min_samples_leaf=2, min_samples_split=5, n_estimators=500; total time=   0.6s\n",
      "[CV] END max_depth=100, min_samples_leaf=2, min_samples_split=5, n_estimators=500; total time=   0.6s\n",
      "[CV] END max_depth=100, min_samples_leaf=2, min_samples_split=5, n_estimators=1000; total time=   1.4s\n",
      "[CV] END max_depth=100, min_samples_leaf=2, min_samples_split=5, n_estimators=1000; total time=   1.3s\n",
      "[CV] END max_depth=100, min_samples_leaf=2, min_samples_split=5, n_estimators=1000; total time=   1.3s\n",
      "[CV] END max_depth=100, min_samples_leaf=2, min_samples_split=5, n_estimators=1000; total time=   1.3s\n",
      "[CV] END max_depth=100, min_samples_leaf=2, min_samples_split=5, n_estimators=1000; total time=   1.3s\n",
      "[CV] END max_depth=100, min_samples_leaf=2, min_samples_split=5, n_estimators=2000; total time=   2.8s\n",
      "[CV] END max_depth=100, min_samples_leaf=2, min_samples_split=5, n_estimators=2000; total time=   2.8s\n",
      "[CV] END max_depth=100, min_samples_leaf=2, min_samples_split=5, n_estimators=2000; total time=   2.7s\n",
      "[CV] END max_depth=100, min_samples_leaf=2, min_samples_split=5, n_estimators=2000; total time=   2.8s\n",
      "[CV] END max_depth=100, min_samples_leaf=2, min_samples_split=5, n_estimators=2000; total time=   2.7s\n",
      "[CV] END max_depth=100, min_samples_leaf=2, min_samples_split=10, n_estimators=100; total time=   0.0s\n",
      "[CV] END max_depth=100, min_samples_leaf=2, min_samples_split=10, n_estimators=100; total time=   0.0s\n",
      "[CV] END max_depth=100, min_samples_leaf=2, min_samples_split=10, n_estimators=100; total time=   0.1s\n",
      "[CV] END max_depth=100, min_samples_leaf=2, min_samples_split=10, n_estimators=100; total time=   0.0s\n",
      "[CV] END max_depth=100, min_samples_leaf=2, min_samples_split=10, n_estimators=100; total time=   0.0s\n",
      "[CV] END max_depth=100, min_samples_leaf=2, min_samples_split=10, n_estimators=500; total time=   0.6s\n",
      "[CV] END max_depth=100, min_samples_leaf=2, min_samples_split=10, n_estimators=500; total time=   0.6s\n",
      "[CV] END max_depth=100, min_samples_leaf=2, min_samples_split=10, n_estimators=500; total time=   0.6s\n",
      "[CV] END max_depth=100, min_samples_leaf=2, min_samples_split=10, n_estimators=500; total time=   0.6s\n",
      "[CV] END max_depth=100, min_samples_leaf=2, min_samples_split=10, n_estimators=500; total time=   0.6s\n",
      "[CV] END max_depth=100, min_samples_leaf=2, min_samples_split=10, n_estimators=1000; total time=   1.3s\n",
      "[CV] END max_depth=100, min_samples_leaf=2, min_samples_split=10, n_estimators=1000; total time=   1.3s\n",
      "[CV] END max_depth=100, min_samples_leaf=2, min_samples_split=10, n_estimators=1000; total time=   1.3s\n",
      "[CV] END max_depth=100, min_samples_leaf=2, min_samples_split=10, n_estimators=1000; total time=   1.3s\n",
      "[CV] END max_depth=100, min_samples_leaf=2, min_samples_split=10, n_estimators=1000; total time=   1.3s\n",
      "[CV] END max_depth=100, min_samples_leaf=2, min_samples_split=10, n_estimators=2000; total time=   2.7s\n",
      "[CV] END max_depth=100, min_samples_leaf=2, min_samples_split=10, n_estimators=2000; total time=   2.7s\n",
      "[CV] END max_depth=100, min_samples_leaf=2, min_samples_split=10, n_estimators=2000; total time=   2.6s\n",
      "[CV] END max_depth=100, min_samples_leaf=2, min_samples_split=10, n_estimators=2000; total time=   2.8s\n",
      "[CV] END max_depth=100, min_samples_leaf=2, min_samples_split=10, n_estimators=2000; total time=   2.7s\n",
      "[CV] END max_depth=100, min_samples_leaf=4, min_samples_split=2, n_estimators=100; total time=   0.1s\n",
      "[CV] END max_depth=100, min_samples_leaf=4, min_samples_split=2, n_estimators=100; total time=   0.1s\n",
      "[CV] END max_depth=100, min_samples_leaf=4, min_samples_split=2, n_estimators=100; total time=   0.1s\n",
      "[CV] END max_depth=100, min_samples_leaf=4, min_samples_split=2, n_estimators=100; total time=   0.1s\n",
      "[CV] END max_depth=100, min_samples_leaf=4, min_samples_split=2, n_estimators=100; total time=   0.1s\n",
      "[CV] END max_depth=100, min_samples_leaf=4, min_samples_split=2, n_estimators=500; total time=   0.7s\n",
      "[CV] END max_depth=100, min_samples_leaf=4, min_samples_split=2, n_estimators=500; total time=   0.6s\n",
      "[CV] END max_depth=100, min_samples_leaf=4, min_samples_split=2, n_estimators=500; total time=   0.6s\n",
      "[CV] END max_depth=100, min_samples_leaf=4, min_samples_split=2, n_estimators=500; total time=   0.6s\n",
      "[CV] END max_depth=100, min_samples_leaf=4, min_samples_split=2, n_estimators=500; total time=   0.6s\n",
      "[CV] END max_depth=100, min_samples_leaf=4, min_samples_split=2, n_estimators=1000; total time=   1.3s\n",
      "[CV] END max_depth=100, min_samples_leaf=4, min_samples_split=2, n_estimators=1000; total time=   1.4s\n",
      "[CV] END max_depth=100, min_samples_leaf=4, min_samples_split=2, n_estimators=1000; total time=   1.4s\n",
      "[CV] END max_depth=100, min_samples_leaf=4, min_samples_split=2, n_estimators=1000; total time=   1.4s\n",
      "[CV] END max_depth=100, min_samples_leaf=4, min_samples_split=2, n_estimators=1000; total time=   1.2s\n",
      "[CV] END max_depth=100, min_samples_leaf=4, min_samples_split=2, n_estimators=2000; total time=   2.7s\n",
      "[CV] END max_depth=100, min_samples_leaf=4, min_samples_split=2, n_estimators=2000; total time=   2.7s\n",
      "[CV] END max_depth=100, min_samples_leaf=4, min_samples_split=2, n_estimators=2000; total time=   2.7s\n",
      "[CV] END max_depth=100, min_samples_leaf=4, min_samples_split=2, n_estimators=2000; total time=   2.7s\n",
      "[CV] END max_depth=100, min_samples_leaf=4, min_samples_split=2, n_estimators=2000; total time=   2.7s\n",
      "[CV] END max_depth=100, min_samples_leaf=4, min_samples_split=5, n_estimators=100; total time=   0.0s\n",
      "[CV] END max_depth=100, min_samples_leaf=4, min_samples_split=5, n_estimators=100; total time=   0.0s\n",
      "[CV] END max_depth=100, min_samples_leaf=4, min_samples_split=5, n_estimators=100; total time=   0.0s\n",
      "[CV] END max_depth=100, min_samples_leaf=4, min_samples_split=5, n_estimators=100; total time=   0.0s\n",
      "[CV] END max_depth=100, min_samples_leaf=4, min_samples_split=5, n_estimators=100; total time=   0.0s\n",
      "[CV] END max_depth=100, min_samples_leaf=4, min_samples_split=5, n_estimators=500; total time=   0.6s\n",
      "[CV] END max_depth=100, min_samples_leaf=4, min_samples_split=5, n_estimators=500; total time=   0.6s\n",
      "[CV] END max_depth=100, min_samples_leaf=4, min_samples_split=5, n_estimators=500; total time=   0.6s\n",
      "[CV] END max_depth=100, min_samples_leaf=4, min_samples_split=5, n_estimators=500; total time=   0.7s\n",
      "[CV] END max_depth=100, min_samples_leaf=4, min_samples_split=5, n_estimators=500; total time=   0.6s\n",
      "[CV] END max_depth=100, min_samples_leaf=4, min_samples_split=5, n_estimators=1000; total time=   1.4s\n",
      "[CV] END max_depth=100, min_samples_leaf=4, min_samples_split=5, n_estimators=1000; total time=   1.4s\n",
      "[CV] END max_depth=100, min_samples_leaf=4, min_samples_split=5, n_estimators=1000; total time=   1.3s\n",
      "[CV] END max_depth=100, min_samples_leaf=4, min_samples_split=5, n_estimators=1000; total time=   1.3s\n",
      "[CV] END max_depth=100, min_samples_leaf=4, min_samples_split=5, n_estimators=1000; total time=   1.6s\n",
      "[CV] END max_depth=100, min_samples_leaf=4, min_samples_split=5, n_estimators=2000; total time=   2.9s\n",
      "[CV] END max_depth=100, min_samples_leaf=4, min_samples_split=5, n_estimators=2000; total time=   2.8s\n",
      "[CV] END max_depth=100, min_samples_leaf=4, min_samples_split=5, n_estimators=2000; total time=   3.3s\n",
      "[CV] END max_depth=100, min_samples_leaf=4, min_samples_split=5, n_estimators=2000; total time=   2.9s\n",
      "[CV] END max_depth=100, min_samples_leaf=4, min_samples_split=5, n_estimators=2000; total time=   2.9s\n",
      "[CV] END max_depth=100, min_samples_leaf=4, min_samples_split=10, n_estimators=100; total time=   0.1s\n",
      "[CV] END max_depth=100, min_samples_leaf=4, min_samples_split=10, n_estimators=100; total time=   0.0s\n",
      "[CV] END max_depth=100, min_samples_leaf=4, min_samples_split=10, n_estimators=100; total time=   0.1s\n",
      "[CV] END max_depth=100, min_samples_leaf=4, min_samples_split=10, n_estimators=100; total time=   0.1s\n",
      "[CV] END max_depth=100, min_samples_leaf=4, min_samples_split=10, n_estimators=100; total time=   0.0s\n",
      "[CV] END max_depth=100, min_samples_leaf=4, min_samples_split=10, n_estimators=500; total time=   0.9s\n",
      "[CV] END max_depth=100, min_samples_leaf=4, min_samples_split=10, n_estimators=500; total time=   0.9s\n",
      "[CV] END max_depth=100, min_samples_leaf=4, min_samples_split=10, n_estimators=500; total time=   0.9s\n",
      "[CV] END max_depth=100, min_samples_leaf=4, min_samples_split=10, n_estimators=500; total time=   0.8s\n",
      "[CV] END max_depth=100, min_samples_leaf=4, min_samples_split=10, n_estimators=500; total time=   0.9s\n",
      "[CV] END max_depth=100, min_samples_leaf=4, min_samples_split=10, n_estimators=1000; total time=   1.8s\n",
      "[CV] END max_depth=100, min_samples_leaf=4, min_samples_split=10, n_estimators=1000; total time=   1.9s\n",
      "[CV] END max_depth=100, min_samples_leaf=4, min_samples_split=10, n_estimators=1000; total time=   1.6s\n",
      "[CV] END max_depth=100, min_samples_leaf=4, min_samples_split=10, n_estimators=1000; total time=   1.6s\n",
      "[CV] END max_depth=100, min_samples_leaf=4, min_samples_split=10, n_estimators=1000; total time=   1.3s\n",
      "[CV] END max_depth=100, min_samples_leaf=4, min_samples_split=10, n_estimators=2000; total time=   2.8s\n",
      "[CV] END max_depth=100, min_samples_leaf=4, min_samples_split=10, n_estimators=2000; total time=   4.2s\n",
      "[CV] END max_depth=100, min_samples_leaf=4, min_samples_split=10, n_estimators=2000; total time=   3.0s\n",
      "[CV] END max_depth=100, min_samples_leaf=4, min_samples_split=10, n_estimators=2000; total time=   2.8s\n",
      "[CV] END max_depth=100, min_samples_leaf=4, min_samples_split=10, n_estimators=2000; total time=   3.0s\n"
     ]
    },
    {
     "data": {
      "text/plain": [
       "GridSearchCV(cv=5, estimator=RandomForestClassifier(),\n",
       "             param_grid={'max_depth': [10, 50, 100],\n",
       "                         'min_samples_leaf': [1, 2, 4],\n",
       "                         'min_samples_split': [2, 5, 10],\n",
       "                         'n_estimators': [100, 500, 1000, 2000]},\n",
       "             scoring='accuracy', verbose=2)"
      ]
     },
     "execution_count": 69,
     "metadata": {},
     "output_type": "execute_result"
    }
   ],
   "source": [
    "rf_clf = GridSearchCV(rf, param_grid = parameters, scoring='accuracy', cv=5, refit=True, verbose=2)\n",
    "rf_clf.fit(train_X,train_Y)"
   ]
  },
  {
   "cell_type": "code",
   "execution_count": 73,
   "id": "b27396fc",
   "metadata": {},
   "outputs": [
    {
     "name": "stdout",
     "output_type": "stream",
     "text": [
      "Tuned Hyperparameters : {'max_depth': 10, 'min_samples_leaf': 2, 'min_samples_split': 2, 'n_estimators': 500}\n",
      "Accuracy : 0.7565217391304347\n"
     ]
    }
   ],
   "source": [
    "print(\"Tuned Hyperparameters :\", rf_clf.best_params_)\n",
    "print(\"Accuracy :\", rf_clf.best_score_)"
   ]
  },
  {
   "cell_type": "code",
   "execution_count": 74,
   "id": "c7cce54a",
   "metadata": {},
   "outputs": [],
   "source": [
    "rf_pred = rf_clf.best_estimator_.predict(test_X)"
   ]
  },
  {
   "cell_type": "code",
   "execution_count": 76,
   "id": "e189f110",
   "metadata": {},
   "outputs": [
    {
     "data": {
      "text/plain": [
       "0.7177284621578099"
      ]
     },
     "execution_count": 76,
     "metadata": {},
     "output_type": "execute_result"
    }
   ],
   "source": [
    "f1_score(y_true=test_Y, y_pred=rf_pred,average='weighted')"
   ]
  },
  {
   "cell_type": "markdown",
   "id": "561b8a46",
   "metadata": {},
   "source": [
    "### Accuracy"
   ]
  },
  {
   "cell_type": "code",
   "execution_count": 77,
   "id": "5dbb70ed",
   "metadata": {},
   "outputs": [],
   "source": [
    "models = ['Logistic Regression', 'Support Vector Machine', 'Random Forest']"
   ]
  },
  {
   "cell_type": "code",
   "execution_count": 78,
   "id": "3783e397",
   "metadata": {},
   "outputs": [
    {
     "data": {
      "text/html": [
       "<div>\n",
       "<style scoped>\n",
       "    .dataframe tbody tr th:only-of-type {\n",
       "        vertical-align: middle;\n",
       "    }\n",
       "\n",
       "    .dataframe tbody tr th {\n",
       "        vertical-align: top;\n",
       "    }\n",
       "\n",
       "    .dataframe thead th {\n",
       "        text-align: right;\n",
       "    }\n",
       "</style>\n",
       "<table border=\"1\" class=\"dataframe\">\n",
       "  <thead>\n",
       "    <tr style=\"text-align: right;\">\n",
       "      <th></th>\n",
       "      <th>Logistic Regression</th>\n",
       "      <th>Support Vector Machine</th>\n",
       "      <th>Random Forest</th>\n",
       "    </tr>\n",
       "  </thead>\n",
       "  <tbody>\n",
       "    <tr>\n",
       "      <th>0</th>\n",
       "      <td>0.805556</td>\n",
       "      <td>0.805556</td>\n",
       "      <td>0.722222</td>\n",
       "    </tr>\n",
       "  </tbody>\n",
       "</table>\n",
       "</div>"
      ],
      "text/plain": [
       "   Logistic Regression  Support Vector Machine  Random Forest\n",
       "0             0.805556                0.805556       0.722222"
      ]
     },
     "execution_count": 78,
     "metadata": {},
     "output_type": "execute_result"
    }
   ],
   "source": [
    "acc_dict = {'Logistic Regression': [accuracy_score(test_Y,logres_pred)], 'Support Vector Machine': [accuracy_score(test_Y,svc_pred)], 'Random Forest': [accuracy_score(test_Y,rf_pred)]}\n",
    "acc_df = pd.DataFrame(acc_dict)\n",
    "acc_df.head()"
   ]
  },
  {
   "cell_type": "markdown",
   "id": "9ab95232",
   "metadata": {},
   "source": [
    "## f1 Score"
   ]
  },
  {
   "cell_type": "code",
   "execution_count": 83,
   "id": "0b44fcce",
   "metadata": {},
   "outputs": [
    {
     "data": {
      "text/html": [
       "<div>\n",
       "<style scoped>\n",
       "    .dataframe tbody tr th:only-of-type {\n",
       "        vertical-align: middle;\n",
       "    }\n",
       "\n",
       "    .dataframe tbody tr th {\n",
       "        vertical-align: top;\n",
       "    }\n",
       "\n",
       "    .dataframe thead th {\n",
       "        text-align: right;\n",
       "    }\n",
       "</style>\n",
       "<table border=\"1\" class=\"dataframe\">\n",
       "  <thead>\n",
       "    <tr style=\"text-align: right;\">\n",
       "      <th></th>\n",
       "      <th>Logistic Regression</th>\n",
       "      <th>Support Vector Machine</th>\n",
       "      <th>Random Forest</th>\n",
       "    </tr>\n",
       "  </thead>\n",
       "  <tbody>\n",
       "    <tr>\n",
       "      <th>0</th>\n",
       "      <td>0.805166</td>\n",
       "      <td>0.809627</td>\n",
       "      <td>0.717728</td>\n",
       "    </tr>\n",
       "  </tbody>\n",
       "</table>\n",
       "</div>"
      ],
      "text/plain": [
       "   Logistic Regression  Support Vector Machine  Random Forest\n",
       "0             0.805166                0.809627       0.717728"
      ]
     },
     "execution_count": 83,
     "metadata": {},
     "output_type": "execute_result"
    }
   ],
   "source": [
    "f1_dict = {'Logistic Regression': [f1_score(y_true=test_Y, y_pred=logres_pred,average='weighted')], 'Support Vector Machine': [f1_score(y_true=test_Y, y_pred=svc_pred ,average='weighted')], 'Random Forest': [f1_score(y_true=test_Y, y_pred=rf_pred,average='weighted')]}\n",
    "f1_df = pd.DataFrame(f1_dict)\n",
    "f1_df.head()"
   ]
  },
  {
   "cell_type": "markdown",
   "id": "306cfb31",
   "metadata": {},
   "source": [
    "Among the three networks, it can be observed that the support vector machine performs the best, as seen by the accuracy score after 5-fold cross validation. Therefore, support vector machine is the model of choice."
   ]
  },
  {
   "cell_type": "markdown",
   "id": "d238233c",
   "metadata": {},
   "source": [
    "### Confusion Matrix"
   ]
  },
  {
   "cell_type": "code",
   "execution_count": 61,
   "id": "42a1c1bc",
   "metadata": {},
   "outputs": [
    {
     "data": {
      "image/png": "[encoded data removed]",
      "text/plain": [
       "<Figure size 432x288 with 2 Axes>"
      ]
     },
     "metadata": {
      "needs_background": "light"
     },
     "output_type": "display_data"
    },
    {
     "data": {
      "image/png": "[encoded data removed]",
      "text/plain": [
       "<Figure size 432x288 with 2 Axes>"
      ]
     },
     "metadata": {
      "needs_background": "light"
     },
     "output_type": "display_data"
    },
    {
     "data": {
      "image/png": "[encoded data removed]",
      "text/plain": [
       "<Figure size 432x288 with 2 Axes>"
      ]
     },
     "metadata": {
      "needs_background": "light"
     },
     "output_type": "display_data"
    }
   ],
   "source": [
    "cfm_list = [confusion_matrix(test_Y, logres_pred), confusion_matrix(test_Y, svc_pred), confusion_matrix(test_Y,rf_pred)]\n",
    "fig2 = plt.Figure(figsize=(30,30))\n",
    "for i in range(len(models)):\n",
    "    sub = fig2.add_subplot(3,1,1)\n",
    "    plt.figure()\n",
    "    plt.title(models[i])\n",
    "    cm_plot = sns.heatmap(cfm_list[i], annot=True, cmap= \"Blues_r\")\n",
    "    cm_plot.set_xlabel(\"Predicted Values\")\n",
    "    cm_plot.set_ylabel(\"Actual Values\")"
   ]
  },
  {
   "cell_type": "code",
   "execution_count": null,
   "id": "713957a5",
   "metadata": {},
   "outputs": [],
   "source": []
  },
  {
   "cell_type": "code",
   "execution_count": null,
   "id": "4b72ead5",
   "metadata": {},
   "outputs": [],
   "source": []
  },
  {
   "cell_type": "code",
   "execution_count": null,
   "id": "d9a56811",
   "metadata": {},
   "outputs": [],
   "source": []
  }
 ],
 "metadata": {
  "kernelspec": {
   "display_name": "Python 3 (ipykernel)",
   "language": "python",
   "name": "python3"
  },
  "language_info": {
   "codemirror_mode": {
    "name": "ipython",
    "version": 3
   },
   "file_extension": ".py",
   "mimetype": "text/x-python",
   "name": "python",
   "nbconvert_exporter": "python",
   "pygments_lexer": "ipython3",
   "version": "3.9.12"
  }
 },
 "nbformat": 4,
 "nbformat_minor": 5
}
